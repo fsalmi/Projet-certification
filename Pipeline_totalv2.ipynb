{
 "cells": [
  {
   "cell_type": "code",
   "execution_count": 1,
   "metadata": {
    "colab": {},
    "colab_type": "code",
    "id": "OO0QwyImmXfg"
   },
   "outputs": [],
   "source": [
    "import pandas as pd\n",
    "import numpy as np\n",
    "import seaborn as sns\n",
    "import re\n",
    "import warnings\n",
    "warnings.filterwarnings(\"ignore\")\n",
    "import matplotlib.pyplot as plt\n",
    "from matplotlib import rcParams\n",
    "%matplotlib inline\n",
    "from sklearn.feature_selection import RFE,RFECV\n",
    "from sklearn.pipeline import Pipeline\n",
    "from sklearn.model_selection import train_test_split, cross_val_score\n",
    "from sklearn.metrics import accuracy_score, confusion_matrix, roc_curve, auc, log_loss,classification_report\n",
    "rcParams['figure.figsize'] = 15,6\n",
    "#Logistic regression\n",
    "from sklearn.linear_model import LogisticRegression\n",
    "#Random forest \n",
    "from sklearn.ensemble import RandomForestClassifier\n",
    "#SVM\n",
    "from sklearn.svm import SVC\n",
    "#Xgboost\n",
    "from xgboost import XGBClassifier\n",
    "#Gridsearch\n",
    "from sklearn.model_selection import GridSearchCV\n"
   ]
  },
  {
   "cell_type": "code",
   "execution_count": 2,
   "metadata": {
    "colab": {},
    "colab_type": "code",
    "id": "R7uz8kWsy3fw"
   },
   "outputs": [],
   "source": [
    "#chargement du dataset\n",
    "df = pd.read_csv('35users.csv', index_col=0)\n",
    "df['Subject'] = df['Subject'].replace(np.NaN, 'None')\n",
    "df['Thread']=''\n",
    "df.rename(columns={\"DATE\": \"Date_2\",\"TIME\":\"if_time_mention\"},inplace=True)\n",
    "df.drop_duplicates(subset=['From','To','Cc','X-bcc','Subject','Mail'],inplace=True)\n",
    "df.Date=pd.to_datetime(df.Date)\n",
    "#df=df[df.user=='dasovich-j']"
   ]
  },
  {
   "cell_type": "code",
   "execution_count": 3,
   "metadata": {},
   "outputs": [],
   "source": [
    "df['Subject_not_clean']=df['Subject']\n",
    "df['Mail_not_clean']=df['Mail']"
   ]
  },
  {
   "cell_type": "code",
   "execution_count": 4,
   "metadata": {},
   "outputs": [
    {
     "data": {
      "text/html": [
       "<div>\n",
       "<style scoped>\n",
       "    .dataframe tbody tr th:only-of-type {\n",
       "        vertical-align: middle;\n",
       "    }\n",
       "\n",
       "    .dataframe tbody tr th {\n",
       "        vertical-align: top;\n",
       "    }\n",
       "\n",
       "    .dataframe thead th {\n",
       "        text-align: right;\n",
       "    }\n",
       "</style>\n",
       "<table border=\"1\" class=\"dataframe\">\n",
       "  <thead>\n",
       "    <tr style=\"text-align: right;\">\n",
       "      <th></th>\n",
       "      <th>Date</th>\n",
       "      <th>From</th>\n",
       "      <th>To</th>\n",
       "      <th>Cc</th>\n",
       "      <th>X-bcc</th>\n",
       "      <th>Subject</th>\n",
       "      <th>Mail</th>\n",
       "      <th>user</th>\n",
       "      <th>polarity</th>\n",
       "      <th>word_count_Mail</th>\n",
       "      <th>...</th>\n",
       "      <th>Date_2</th>\n",
       "      <th>if_time_mention</th>\n",
       "      <th>GPE</th>\n",
       "      <th>EVENT</th>\n",
       "      <th>MONEY</th>\n",
       "      <th>FAC</th>\n",
       "      <th>WORK_OF_ART</th>\n",
       "      <th>Thread</th>\n",
       "      <th>Subject_not_clean</th>\n",
       "      <th>Mail_not_clean</th>\n",
       "    </tr>\n",
       "  </thead>\n",
       "  <tbody>\n",
       "    <tr>\n",
       "      <td>0</td>\n",
       "      <td>1998-12-07 08:00:00</td>\n",
       "      <td>jeff.dasovich@enron.com</td>\n",
       "      <td>None</td>\n",
       "      <td>No Cc</td>\n",
       "      <td>NaN</td>\n",
       "      <td>Edison/interconnection</td>\n",
       "      <td>When: Monday, December 07, 1998 10:30 AM-12:00...</td>\n",
       "      <td>dasovich-j</td>\n",
       "      <td>0.000000</td>\n",
       "      <td>26</td>\n",
       "      <td>...</td>\n",
       "      <td>1</td>\n",
       "      <td>1</td>\n",
       "      <td>2</td>\n",
       "      <td>0</td>\n",
       "      <td>0</td>\n",
       "      <td>1</td>\n",
       "      <td>0</td>\n",
       "      <td></td>\n",
       "      <td>Edison/interconnection</td>\n",
       "      <td>When: Monday, December 07, 1998 10:30 AM-12:00...</td>\n",
       "    </tr>\n",
       "    <tr>\n",
       "      <td>1</td>\n",
       "      <td>1999-04-01 16:39:00</td>\n",
       "      <td>marc.phillips@enron.com</td>\n",
       "      <td>kyle.purvis@enron.com, allan.weatherford@enron...</td>\n",
       "      <td>william.kendrick@enron.com, david.nutt@enron.c...</td>\n",
       "      <td>NaN</td>\n",
       "      <td>Texas Compliance Certification Forms Reminder</td>\n",
       "      <td>I was at a TXOGA meeting last week and I was i...</td>\n",
       "      <td>campbell-l</td>\n",
       "      <td>-0.093750</td>\n",
       "      <td>116</td>\n",
       "      <td>...</td>\n",
       "      <td>3</td>\n",
       "      <td>0</td>\n",
       "      <td>1</td>\n",
       "      <td>0</td>\n",
       "      <td>0</td>\n",
       "      <td>0</td>\n",
       "      <td>0</td>\n",
       "      <td></td>\n",
       "      <td>Texas Compliance Certification Forms Reminder</td>\n",
       "      <td>I was at a TXOGA meeting last week and I was i...</td>\n",
       "    </tr>\n",
       "    <tr>\n",
       "      <td>2</td>\n",
       "      <td>1999-04-02 08:06:00</td>\n",
       "      <td>team.kingman-needles@enron.com</td>\n",
       "      <td>None</td>\n",
       "      <td>rich.jolly@enron.com, david.roensch@enron.com,...</td>\n",
       "      <td>NaN</td>\n",
       "      <td>PG&amp;E Sampleing Report</td>\n",
       "      <td>Notice the sample results are much higher than...</td>\n",
       "      <td>campbell-l</td>\n",
       "      <td>0.150000</td>\n",
       "      <td>16</td>\n",
       "      <td>...</td>\n",
       "      <td>1</td>\n",
       "      <td>0</td>\n",
       "      <td>0</td>\n",
       "      <td>0</td>\n",
       "      <td>0</td>\n",
       "      <td>0</td>\n",
       "      <td>0</td>\n",
       "      <td></td>\n",
       "      <td>PG&amp;E Sampleing Report</td>\n",
       "      <td>Notice the sample results are much higher than...</td>\n",
       "    </tr>\n",
       "    <tr>\n",
       "      <td>3</td>\n",
       "      <td>1999-04-02 11:15:00</td>\n",
       "      <td>team.san-juan-laplata@enron.com</td>\n",
       "      <td>larry.campbell@enron.com</td>\n",
       "      <td>rick.smith@enron.com</td>\n",
       "      <td>NaN</td>\n",
       "      <td>N.O.V. Updates</td>\n",
       "      <td>Here are the latest and greatest.</td>\n",
       "      <td>campbell-l</td>\n",
       "      <td>0.750000</td>\n",
       "      <td>6</td>\n",
       "      <td>...</td>\n",
       "      <td>0</td>\n",
       "      <td>0</td>\n",
       "      <td>0</td>\n",
       "      <td>0</td>\n",
       "      <td>0</td>\n",
       "      <td>0</td>\n",
       "      <td>0</td>\n",
       "      <td></td>\n",
       "      <td>N.O.V. Updates</td>\n",
       "      <td>Here are the latest and greatest.</td>\n",
       "    </tr>\n",
       "    <tr>\n",
       "      <td>4</td>\n",
       "      <td>1999-04-03 12:45:00</td>\n",
       "      <td>michel.nelson@enron.com</td>\n",
       "      <td>dave.schafer@enron.com, jeffery.fawcett@enron....</td>\n",
       "      <td>No Cc</td>\n",
       "      <td>NaN</td>\n",
       "      <td>PG&amp;E Letter &amp; Spreadsheet</td>\n",
       "      <td>--------------- cc:Mail Forwarded ------------...</td>\n",
       "      <td>campbell-l</td>\n",
       "      <td>-0.008333</td>\n",
       "      <td>277</td>\n",
       "      <td>...</td>\n",
       "      <td>7</td>\n",
       "      <td>2</td>\n",
       "      <td>0</td>\n",
       "      <td>0</td>\n",
       "      <td>1</td>\n",
       "      <td>1</td>\n",
       "      <td>0</td>\n",
       "      <td></td>\n",
       "      <td>PG&amp;E Letter &amp; Spreadsheet</td>\n",
       "      <td>--------------- cc:Mail Forwarded ------------...</td>\n",
       "    </tr>\n",
       "  </tbody>\n",
       "</table>\n",
       "<p>5 rows × 24 columns</p>\n",
       "</div>"
      ],
      "text/plain": [
       "                 Date                             From  \\\n",
       "0 1998-12-07 08:00:00          jeff.dasovich@enron.com   \n",
       "1 1999-04-01 16:39:00          marc.phillips@enron.com   \n",
       "2 1999-04-02 08:06:00   team.kingman-needles@enron.com   \n",
       "3 1999-04-02 11:15:00  team.san-juan-laplata@enron.com   \n",
       "4 1999-04-03 12:45:00          michel.nelson@enron.com   \n",
       "\n",
       "                                                  To  \\\n",
       "0                                               None   \n",
       "1  kyle.purvis@enron.com, allan.weatherford@enron...   \n",
       "2                                               None   \n",
       "3                           larry.campbell@enron.com   \n",
       "4  dave.schafer@enron.com, jeffery.fawcett@enron....   \n",
       "\n",
       "                                                  Cc X-bcc  \\\n",
       "0                                              No Cc   NaN   \n",
       "1  william.kendrick@enron.com, david.nutt@enron.c...   NaN   \n",
       "2  rich.jolly@enron.com, david.roensch@enron.com,...   NaN   \n",
       "3                               rick.smith@enron.com   NaN   \n",
       "4                                              No Cc   NaN   \n",
       "\n",
       "                                         Subject  \\\n",
       "0                         Edison/interconnection   \n",
       "1  Texas Compliance Certification Forms Reminder   \n",
       "2                          PG&E Sampleing Report   \n",
       "3                                 N.O.V. Updates   \n",
       "4                      PG&E Letter & Spreadsheet   \n",
       "\n",
       "                                                Mail        user  polarity  \\\n",
       "0  When: Monday, December 07, 1998 10:30 AM-12:00...  dasovich-j  0.000000   \n",
       "1  I was at a TXOGA meeting last week and I was i...  campbell-l -0.093750   \n",
       "2  Notice the sample results are much higher than...  campbell-l  0.150000   \n",
       "3                  Here are the latest and greatest.  campbell-l  0.750000   \n",
       "4  --------------- cc:Mail Forwarded ------------...  campbell-l -0.008333   \n",
       "\n",
       "   word_count_Mail  ...  Date_2 if_time_mention  GPE  EVENT  MONEY  FAC  \\\n",
       "0               26  ...       1               1    2      0      0    1   \n",
       "1              116  ...       3               0    1      0      0    0   \n",
       "2               16  ...       1               0    0      0      0    0   \n",
       "3                6  ...       0               0    0      0      0    0   \n",
       "4              277  ...       7               2    0      0      1    1   \n",
       "\n",
       "   WORK_OF_ART  Thread                              Subject_not_clean  \\\n",
       "0            0                                 Edison/interconnection   \n",
       "1            0          Texas Compliance Certification Forms Reminder   \n",
       "2            0                                  PG&E Sampleing Report   \n",
       "3            0                                         N.O.V. Updates   \n",
       "4            0                              PG&E Letter & Spreadsheet   \n",
       "\n",
       "                                      Mail_not_clean  \n",
       "0  When: Monday, December 07, 1998 10:30 AM-12:00...  \n",
       "1  I was at a TXOGA meeting last week and I was i...  \n",
       "2  Notice the sample results are much higher than...  \n",
       "3                  Here are the latest and greatest.  \n",
       "4  --------------- cc:Mail Forwarded ------------...  \n",
       "\n",
       "[5 rows x 24 columns]"
      ]
     },
     "execution_count": 4,
     "metadata": {},
     "output_type": "execute_result"
    }
   ],
   "source": [
    "df.head()"
   ]
  },
  {
   "cell_type": "code",
   "execution_count": 5,
   "metadata": {},
   "outputs": [],
   "source": [
    "#Nettoyage des mails de certains symboles qui se rajoutent quand il y a une réponse\n",
    "def  clean_subject(dataset, text_field):\n",
    "    dataset[text_field] = dataset[text_field].apply(lambda elem: re.sub(\"\\?{1,}\", \"\", elem))\n",
    "    dataset[text_field] = dataset[text_field].apply(lambda elem: re.sub(\"!{2,}\", \"\", elem))\n",
    "    dataset[text_field] = dataset[text_field].apply(lambda elem: re.sub(\"\\t\", \" \", elem))  \n",
    "    dataset[text_field] = dataset[text_field].apply(lambda elem: re.sub(\"\\\\'\", \"\", elem))\n",
    "    dataset[text_field] = dataset[text_field].apply(lambda elem: re.sub(\"AM\", \"am\", elem))\n",
    "    dataset[text_field] = dataset[text_field].apply(lambda elem: re.sub(\"PM\", \"pm\", elem))\n",
    "    dataset[text_field] = dataset[text_field].apply(lambda elem: re.sub(\"=\", \"\", elem))\n",
    "    dataset[text_field] = dataset[text_field].apply(lambda elem: re.sub(\"&\", \"\", elem))\n",
    "    dataset[text_field] = dataset[text_field].apply(lambda elem: re.sub(\"\\[\", \"\", elem))\n",
    "    dataset[text_field] = dataset[text_field].apply(lambda elem: re.sub(\"\\]\", \"\", elem))\n",
    "    dataset[text_field] = dataset[text_field].apply(lambda elem: re.sub(\"\\/\", \"\", elem))\n",
    "    dataset[text_field] = dataset[text_field].apply(lambda elem: re.sub(\"'\", \"\", elem))\n",
    "    dataset[text_field] = dataset[text_field].apply(lambda elem: re.sub(\"\\*\", \"\", elem))\n",
    "    dataset[text_field] = dataset[text_field].apply(lambda elem: re.sub(\"\\(\", \"\", elem))\n",
    "    dataset[text_field] = dataset[text_field].apply(lambda elem: re.sub(\"\\)\", \"\", elem))\n",
    "    dataset[text_field] = dataset[text_field].apply(lambda elem: re.sub(\",\", \"\", elem))\n",
    "    dataset[text_field] = dataset[text_field].apply(lambda elem: re.sub(\"\\> \", \"\", elem))\n",
    "    dataset[text_field] = dataset[text_field].apply(lambda elem: re.sub(\"\\< \", \"\", elem))\n",
    "    dataset[text_field] = dataset[text_field].apply(lambda elem: re.sub(\"\\<|\\>\", \"\", elem))\n",
    "    dataset[text_field] = dataset[text_field].apply(lambda elem: re.sub(\"\\<|\\>\", \"\", elem))\n",
    "    dataset[text_field] = dataset[text_field].apply(lambda elem: re.sub(\"\\-{2,}\", \"\", elem))\n",
    "    dataset[text_field] = dataset[text_field].apply(lambda elem: re.sub(\"\\s{2,}\", \" \", elem,flags=re.I))  \n",
    "\n",
    "    return dataset\n",
    "df = clean_subject(df, \"Subject\")"
   ]
  },
  {
   "cell_type": "code",
   "execution_count": 6,
   "metadata": {},
   "outputs": [],
   "source": [
    "#Nettoyage des mails de certains symboles qui se rajoutent quand il y a une réponse\n",
    "def  clean_mail(dataset, text_field):\n",
    "    dataset[text_field] = dataset[text_field].apply(lambda elem: re.sub(\"\\t\", \" \", elem))  \n",
    "    dataset[text_field] = dataset[text_field].apply(lambda elem: re.sub(\"\\\\'\", \"\", elem))\n",
    "    dataset[text_field] = dataset[text_field].apply(lambda elem: re.sub(\"See attached file:\", \"-\", elem))\n",
    "    dataset[text_field] = dataset[text_field].apply(lambda elem: re.sub(\"AM\", \"am\", elem))\n",
    "    dataset[text_field] = dataset[text_field].apply(lambda elem: re.sub(\"PM\", \"pm\", elem))\n",
    "    dataset[text_field] = dataset[text_field].apply(lambda elem: re.sub(\"\\> \", \"\", elem))\n",
    "    dataset[text_field] = dataset[text_field].apply(lambda elem: re.sub(\"\\< \", \"\", elem))\n",
    "    dataset[text_field] = dataset[text_field].apply(lambda elem: re.sub(\"\\<|\\>\", \"\", elem))\n",
    "    dataset[text_field] = dataset[text_field].apply(lambda elem: re.sub(\"\\<|\\>\", \"\", elem))\n",
    "    dataset[text_field] = dataset[text_field].apply(lambda elem: re.sub(\"\\-{2,}\", \"\", elem))\n",
    "    dataset[text_field] = dataset[text_field].apply(lambda elem: re.sub(\"\\s{2,}\", \" \", elem,flags=re.I))  \n",
    "    return dataset\n",
    "df = clean_mail(df, \"Mail\")"
   ]
  },
  {
   "cell_type": "markdown",
   "metadata": {},
   "source": [
    "## **Item  : Suppression des threads**"
   ]
  },
  {
   "cell_type": "markdown",
   "metadata": {},
   "source": [
    "### Avec cette fonction, on va sélectionner les emails qui sont un subject qui ont un value counts plus grand que 3"
   ]
  },
  {
   "cell_type": "code",
   "execution_count": 7,
   "metadata": {},
   "outputs": [],
   "source": [
    "def selection_subject(dataset):\n",
    "    liste_subject_check=[]\n",
    "    liste_subject_sans_re_fwd_check=[]\n",
    "    dataset_containing_re_fwd=dataset[dataset.Subject.str.contains('Re:|RE:|re:|fwd:|FW:|Fwd:|Fw:|FWD:')]\n",
    "    for (indice,valeur) in zip(dataset_containing_re_fwd.Subject.value_counts().index,dataset_containing_re_fwd.Subject.value_counts().values):\n",
    "        if valeur>=3 and valeur<=50:\n",
    "            liste_subject_check.append(indice)\n",
    "    for elem in liste_subject_check:\n",
    "        liste_subject_sans_re_fwd_check.append(re.sub('Re: ?|RE: ?|re: ?|fwd: ?|FW: ?|Fwd: ?|Fw: ?|FWD: ?', \"\", elem))\n",
    "    print(\"Il y a {} subjects à traiter\".format(len(liste_subject_check)))\n",
    "    return liste_subject_check,liste_subject_sans_re_fwd_check"
   ]
  },
  {
   "cell_type": "markdown",
   "metadata": {},
   "source": [
    "### Fonction qui va checker si un mail est inclus dans son sous-dataset subject, elle ne retourne rien mais modifie la colonne Thread dans le dataset "
   ]
  },
  {
   "cell_type": "code",
   "execution_count": 8,
   "metadata": {},
   "outputs": [],
   "source": [
    "def if_existing(dataset,df2,df6,indice_mail_check,limite):\n",
    "    m=0\n",
    "    #string1 est pour le milieu de mail \n",
    "    lim1=int(len(df2.Mail[indice_mail_check])/2)-int(len(df2.Mail[indice_mail_check])/limite)\n",
    "    lim2=int(len(df2.Mail[indice_mail_check])/2)+int(len(df2.Mail[indice_mail_check])/limite)\n",
    "    \n",
    "    dataset_check=df2.drop(indice_mail_check)\n",
    "    string1=df2.Mail[indice_mail_check][lim1:lim2]\n",
    "    \n",
    "    #string2 est pour le milieu de mail \n",
    "    lim0_1=0\n",
    "    lim0_2=70\n",
    "    string2=df2.Mail[indice_mail_check][lim0_1:lim0_2]\n",
    "    \n",
    "    check_array1=[elem for elem in np.array(dataset_check.Mail.str.find(string1).values>-1)]\n",
    "    check_array2=[elem for elem in np.array(dataset_check.Mail.str.find(string2).values>-1)]\n",
    "    check_array3=[(elem1,elem2) for (elem1,elem2) in zip(check_array1,check_array2)]\n",
    "    serie_check1 = pd.Series(check_array3, index = dataset_check.index) \n",
    "    \n",
    "    #Check pr tout le mail si il est trop petit \n",
    "    check_array4=[elem for elem in np.array(dataset_check.Mail.str.find(df2.Mail[indice_mail_check]).values>-1)]\n",
    "    serie_check2 = pd.Series(check_array4, index = dataset_check.index) \n",
    "    \n",
    "    #Check mails agenda \n",
    "    check_agenda=df2.Mail[indice_mail_check].split('Proposed agenda')\n",
    "    \n",
    "    #Check pièce jointe\n",
    "    check_piece_jointe=[df2.Mail[indice_mail_check].lower().find('.xls'),df2.Mail[indice_mail_check].lower().find('.doc'),\\\n",
    "                        df2.Mail[indice_mail_check].lower().find('.pdf'),df2.Mail[indice_mail_check].lower().find('.jpg'),\\\n",
    "                        df2.Mail[indice_mail_check].lower().find('.png'),df2.Mail[indice_mail_check].lower().find('.pp'),\\\n",
    "                        df2.Mail[indice_mail_check].lower().find('.dot'),df2.Mail[indice_mail_check].lower().find('.wpd')]\n",
    "    \n",
    "    #Check si tout le dataset_check est en 1\n",
    "    check_all_one=set(dataset_check.Thread)\n",
    "    \n",
    "    #S'il n'y a pas de pièces jointes, on traite normalement, sinon on le garde \n",
    "    if max(check_piece_jointe)==-1:\n",
    "        if check_all_one=={1}:\n",
    "            True\n",
    "        else:\n",
    "            #Si le check du mail est trop petit len<30, on prend tout le mail \n",
    "            if len(string1)>30:\n",
    "                if (True,True) in check_array3:\n",
    "                    if len(check_agenda)==1:            \n",
    "                        dataset.Thread[indice_mail_check]=1\n",
    "                        df2.Thread[indice_mail_check]=1\n",
    "                        df6.Thread[indice_mail_check]=1\n",
    "                    else:\n",
    "                        check_array5=[elem for elem in np.array(dataset_check.Mail.str.find(check_agenda[1][0:35]).values>-1)]\n",
    "                        serie_check3 = pd.Series(check_array5, index = dataset_check.index) \n",
    "                        if True in check_array5:\n",
    "                            dataset.Thread[indice_mail_check]=1\n",
    "                            df2.Thread[indice_mail_check]=1\n",
    "                            df6.Thread[indice_mail_check]=1\n",
    "                        else:\n",
    "                            True\n",
    "                            #print(\"Ce mail n'est pas inclus dans les autres 3\")\n",
    "                else:\n",
    "                    True\n",
    "                    #print(\"Ce mail n'est pas inclus dans d'autres mails 2\")\n",
    "            else:\n",
    "                if True in check_array4:\n",
    "                    dataset.Thread[indice_mail_check]=1\n",
    "                    df2.Thread[indice_mail_check]=1\n",
    "                    df6.Thread[indice_mail_check]=1\n",
    "                else:\n",
    "                    True\n",
    "                    #print(\"Ce mail n'est pas inclus dans d'autres mails\")\n",
    "    else:\n",
    "        m+=1\n",
    "    #print('nb attaché',m)"
   ]
  },
  {
   "cell_type": "markdown",
   "metadata": {},
   "source": [
    "### Fonction pour définir les sous-datasets subject "
   ]
  },
  {
   "cell_type": "code",
   "execution_count": 9,
   "metadata": {},
   "outputs": [],
   "source": [
    "def cut_by_subject(dataset,liste_subject_2,liste_subject_sans_re_fwd_2,j):\n",
    "    dataset_created=dataset[dataset.Subject.str.contains(liste_subject_sans_re_fwd_2[j])]\n",
    "    dataset_created = dataset_created.sort_values(by=\"Date\")\n",
    "    return dataset_created"
   ]
  },
  {
   "cell_type": "markdown",
   "metadata": {},
   "source": [
    "### Fonction finale qui va labéliser tous les mails inclus dans d'autres mails dans toute la boîte mails "
   ]
  },
  {
   "cell_type": "code",
   "execution_count": 10,
   "metadata": {},
   "outputs": [],
   "source": [
    "def label_inclusion(emails_user,dataset_tot):\n",
    "    print('User: {}'.format(emails_user.user.unique()))\n",
    "    liste_subject,liste_subject_sans_re_fwd=selection_subject(emails_user)\n",
    "    liste_recheck_subject_index=[]\n",
    "    for i in range(0,len(liste_subject)):\n",
    "        dataset_subject=cut_by_subject(emails_user,liste_subject,liste_subject_sans_re_fwd,i)\n",
    "        if len(dataset_subject)==0:\n",
    "            liste_recheck_subject_index.append(i)\n",
    "        elif len(dataset_subject)==1:\n",
    "            True\n",
    "        else:\n",
    "            for elem in dataset_subject.index:\n",
    "                if_existing(emails_user,dataset_subject,dataset_tot,elem,10)\n",
    "            pourcentage_supprime=len(dataset_subject[dataset_subject.Thread==1])/len(dataset_subject)\n",
    "            print(f\"Pour le subject {i+1}, il y a eu {100*round(pourcentage_supprime,2):.1f}% de mails supprimés\")\n",
    "        \n",
    "    print(\"Ces mails {} n'ont pas été pris en compte, recheck\".format(liste_recheck_subject_index))\n",
    "\n",
    "    Mails_supprimes_perct=len(emails_user[emails_user.Thread==1])/len(emails_user)\n",
    "    print(f\"On a pu supprimer {round(100*Mails_supprimes_perct,2):.2f}% de cette boîte mail\")\n",
    "    return emails_user "
   ]
  },
  {
   "cell_type": "code",
   "execution_count": 11,
   "metadata": {},
   "outputs": [],
   "source": [
    "def nombre_mails_supprime(df3):\n",
    "    mails_supp=df3.shape[0]-df3[df3.Thread!=1].shape[0]\n",
    "    print(\"On a pu supprimé {} mails pour le user {} sur un total de {}\".format(mails_supp,df3.user.unique(),df3.shape[0]))"
   ]
  },
  {
   "cell_type": "code",
   "execution_count": 12,
   "metadata": {},
   "outputs": [],
   "source": [
    "def nouveau_dataset(df4):\n",
    "    df5=df4[df4.Thread!=1]\n",
    "    return df5"
   ]
  },
  {
   "cell_type": "code",
   "execution_count": 13,
   "metadata": {
    "scrolled": true
   },
   "outputs": [
    {
     "name": "stdout",
     "output_type": "stream",
     "text": [
      "Wall time: 2h 39min 32s\n"
     ]
    }
   ],
   "source": [
    "%%time\n",
    "%%capture cap --no-stderr\n",
    "\n",
    "#for element in liste_user_unique:\n",
    "for element in df.user.unique():\n",
    "    \n",
    "    y = df[df['user'] == element]\n",
    "    dataset_new=label_inclusion(y,df)\n",
    "    nombre_mails_supprime(dataset_new)\n",
    "    y=nouveau_dataset(dataset_new)\n"
   ]
  },
  {
   "cell_type": "code",
   "execution_count": 14,
   "metadata": {},
   "outputs": [],
   "source": [
    "with open('output_test.txt', 'w') as f:\n",
    "    f.write(cap.stdout)"
   ]
  },
  {
   "cell_type": "code",
   "execution_count": 15,
   "metadata": {},
   "outputs": [
    {
     "name": "stdout",
     "output_type": "stream",
     "text": [
      "Au total il y a 12163 mails supprimés sur 59042\n"
     ]
    }
   ],
   "source": [
    "print('Au total il y a {} mails supprimés sur {}'.format(df[df.Thread==1].shape[0],df.shape[0]))"
   ]
  },
  {
   "cell_type": "code",
   "execution_count": 16,
   "metadata": {},
   "outputs": [
    {
     "data": {
      "text/plain": [
       "(59042, 24)"
      ]
     },
     "execution_count": 16,
     "metadata": {},
     "output_type": "execute_result"
    }
   ],
   "source": [
    "df.shape"
   ]
  },
  {
   "cell_type": "code",
   "execution_count": 17,
   "metadata": {},
   "outputs": [
    {
     "data": {
      "text/plain": [
       "0.20600589410927814"
      ]
     },
     "execution_count": 17,
     "metadata": {},
     "output_type": "execute_result"
    }
   ],
   "source": [
    "df[df.Thread==1].shape[0]/df.shape[0]"
   ]
  },
  {
   "cell_type": "code",
   "execution_count": 19,
   "metadata": {},
   "outputs": [],
   "source": [
    "emails=df.copy()"
   ]
  },
  {
   "cell_type": "code",
   "execution_count": 20,
   "metadata": {},
   "outputs": [],
   "source": [
    "emails.to_csv('Dataset_avec_thread.csv',index=False)"
   ]
  },
  {
   "cell_type": "markdown",
   "metadata": {
    "colab_type": "text",
    "id": "trmxTrMu9n2r"
   },
   "source": [
    "### **Item 1 : Mails d'information interne**"
   ]
  },
  {
   "cell_type": "code",
   "execution_count": 21,
   "metadata": {
    "colab": {},
    "colab_type": "code",
    "id": "fDsBryhJy3aF"
   },
   "outputs": [],
   "source": [
    "liste_email_automatique_supprime_from=['enron.announcements@enron.com', 'office.chairman@enron.com', 'press.release@enron.com', 'outlook.team@enron.com', \n",
    "        'no.address@enron.com','40enron@enron.com', 'administration.enron@enron.com', \n",
    "        'perfmgmt@enron.com',  'exchange.administrator@enrom.com', \n",
    "        'public.relations@enron.com','issuealert@enron.com']\n",
    "emails['email_automatique_supprime_from']=emails.From.isin(liste_email_automatique_supprime_from).astype(int)\n",
    "\n",
    "#suppression des adresses To\n",
    "liste_email_automatique_supprime_to = ['all.worldwide@enron.com', 'all.users@enron.com', 'eprocurement.list@enron.com', 'enron.employees@enron.com', \n",
    "      'the.mailout@enron.com', 'dl-ga-all_enron_worldwide1@enron.com', 'None']\n",
    "emails['email_automatique_supprime_to']=emails.To.isin(liste_email_automatique_supprime_to).astype(int)\n"
   ]
  },
  {
   "cell_type": "code",
   "execution_count": 22,
   "metadata": {},
   "outputs": [
    {
     "data": {
      "text/plain": [
       "array([0, 1], dtype=int64)"
      ]
     },
     "execution_count": 22,
     "metadata": {},
     "output_type": "execute_result"
    }
   ],
   "source": [
    "emails.email_automatique_supprime_from.unique()"
   ]
  },
  {
   "cell_type": "code",
   "execution_count": 23,
   "metadata": {},
   "outputs": [
    {
     "data": {
      "text/plain": [
       "array([1, 0], dtype=int64)"
      ]
     },
     "execution_count": 23,
     "metadata": {},
     "output_type": "execute_result"
    }
   ],
   "source": [
    "emails.email_automatique_supprime_to.unique()"
   ]
  },
  {
   "cell_type": "code",
   "execution_count": 24,
   "metadata": {},
   "outputs": [
    {
     "data": {
      "text/plain": [
       "array(['', 1], dtype=object)"
      ]
     },
     "execution_count": 24,
     "metadata": {},
     "output_type": "execute_result"
    }
   ],
   "source": [
    "emails.Thread.unique()"
   ]
  },
  {
   "cell_type": "markdown",
   "metadata": {
    "colab_type": "text",
    "id": "wAAXSCgAy4wi"
   },
   "source": [
    "### **Item 2 : Suppression des Newsletters**\n",
    "\n",
    "Mots obtenus grâce au TF - IDF sur le contenu et l'objet de chaque mail et adresses mails identifiées."
   ]
  },
  {
   "cell_type": "code",
   "execution_count": 25,
   "metadata": {
    "colab": {},
    "colab_type": "code",
    "id": "X7du1b0F7Wu_"
   },
   "outputs": [],
   "source": [
    "#Mail_Newsletter\n",
    "emails['unsubscribe'] = emails['Mail'].str.contains('unsubscribe', case=False).astype(int)\n",
    "#y=0 on supprime pas \n",
    "\n",
    "#Subject_Newsletter\n",
    "emails['enron_mentions'] = emails['Subject'].str.contains('Enron mentions', case=False).astype(int)\n"
   ]
  },
  {
   "cell_type": "code",
   "execution_count": 26,
   "metadata": {},
   "outputs": [
    {
     "data": {
      "text/plain": [
       "array([0, 1], dtype=int64)"
      ]
     },
     "execution_count": 26,
     "metadata": {},
     "output_type": "execute_result"
    }
   ],
   "source": [
    "emails.unsubscribe.unique()"
   ]
  },
  {
   "cell_type": "code",
   "execution_count": 27,
   "metadata": {},
   "outputs": [
    {
     "data": {
      "text/plain": [
       "array([0, 1], dtype=int64)"
      ]
     },
     "execution_count": 27,
     "metadata": {},
     "output_type": "execute_result"
    }
   ],
   "source": [
    "emails.enron_mentions.unique()"
   ]
  },
  {
   "cell_type": "code",
   "execution_count": 28,
   "metadata": {
    "colab": {},
    "colab_type": "code",
    "id": "x5zjnuGo3N_4"
   },
   "outputs": [],
   "source": [
    "#mails contenant newsletter mais avec un nom de domaine externe (certains employés d'Enron s'envoient parfois des newsletters avec des informations intéressantes au sein du mail, je souhaitais les conserver)\n",
    "emails['newsletter'] = emails['Mail'].str.contains('newsletter', case=False).astype(int)\n",
    "emails['newsletter_suppressed'] = (emails['newsletter'] == 1) & (emails['Communication'] == 'External to Internal')\n",
    "#y=0 on garde "
   ]
  },
  {
   "cell_type": "code",
   "execution_count": 29,
   "metadata": {},
   "outputs": [
    {
     "data": {
      "text/plain": [
       "(array([0, 1], dtype=int64), array([False,  True]))"
      ]
     },
     "execution_count": 29,
     "metadata": {},
     "output_type": "execute_result"
    }
   ],
   "source": [
    "emails['newsletter'].unique(),emails['newsletter_suppressed'].unique()"
   ]
  },
  {
   "cell_type": "code",
   "execution_count": 30,
   "metadata": {
    "colab": {},
    "colab_type": "code",
    "id": "VpRM-ARvUlJH"
   },
   "outputs": [],
   "source": [
    "From_newsletter = ['noreply@hotornot.com','noreply@postmastergeneral.com','exchange.info@nymex.com','noreply@ccomad3.uu.comissioner.com','owner-nyiso-tech_exchange@lists.thebiz.net','feedback@intcx.com','owner-eveningmba@haas.berkeley.edu','nytdirect@nytimes.com','ecenter@williams.com','pmadpr@worldnet.att.net','crcommunications@caiso.com','navigator@nisource.com','marketing@nymex.com','info@pma.conference.com']\n",
    "emails['From_newsletter']=emails.From.isin(From_newsletter)"
   ]
  },
  {
   "cell_type": "code",
   "execution_count": 31,
   "metadata": {},
   "outputs": [
    {
     "data": {
      "text/plain": [
       "array([False,  True])"
      ]
     },
     "execution_count": 31,
     "metadata": {},
     "output_type": "execute_result"
    }
   ],
   "source": [
    "emails['From_newsletter'].unique()"
   ]
  },
  {
   "cell_type": "markdown",
   "metadata": {
    "colab_type": "text",
    "id": "BY8b5serzNPf"
   },
   "source": [
    "### **Item 3 : Suppression des Spams**\n",
    "\n",
    "On peut rajouter d'autres mots-clés."
   ]
  },
  {
   "cell_type": "code",
   "execution_count": 32,
   "metadata": {
    "colab": {},
    "colab_type": "code",
    "id": "p_beebNDzV6S"
   },
   "outputs": [],
   "source": [
    "#Mail_Spam\n",
    "emails['FREE'] = emails['Subject'].str.contains('FREE').astype(int)\n",
    "emails['doctype_html'] = emails['Mail'].str.contains('<!doctype html',case=False).astype(int)"
   ]
  },
  {
   "cell_type": "code",
   "execution_count": 33,
   "metadata": {},
   "outputs": [
    {
     "data": {
      "text/plain": [
       "array([0], dtype=int64)"
      ]
     },
     "execution_count": 33,
     "metadata": {},
     "output_type": "execute_result"
    }
   ],
   "source": [
    "emails['doctype_html'].unique()"
   ]
  },
  {
   "cell_type": "markdown",
   "metadata": {
    "colab_type": "text",
    "id": "N8dz1l6UzXss"
   },
   "source": [
    "### **Item 4 : Suppression des mails automatiques**"
   ]
  },
  {
   "cell_type": "code",
   "execution_count": 34,
   "metadata": {
    "colab": {},
    "colab_type": "code",
    "id": "KGSnW4WpzWnT"
   },
   "outputs": [],
   "source": [
    "#Auto_Subject\n",
    "Auto_Subject = [\"Autohedge\", \"AutoReply\", \"Auto Reply\"]\n",
    "for auto in Auto_Subject:\n",
    "    emails[auto] = emails['Subject'].str.contains(auto).astype(int)"
   ]
  },
  {
   "cell_type": "code",
   "execution_count": 35,
   "metadata": {},
   "outputs": [
    {
     "data": {
      "text/plain": [
       "(array([0, 1], dtype=int64),\n",
       " array([0, 1], dtype=int64),\n",
       " array([0, 1], dtype=int64))"
      ]
     },
     "execution_count": 35,
     "metadata": {},
     "output_type": "execute_result"
    }
   ],
   "source": [
    "emails['Autohedge'].unique(),emails['AutoReply'].unique(),emails['Auto Reply'].unique()"
   ]
  },
  {
   "cell_type": "markdown",
   "metadata": {
    "colab_type": "text",
    "id": "92tqji8UzhHI"
   },
   "source": [
    "### **Item 5 : Suppression des mails de réunion**\n",
    "\n",
    "Confirmation ou annulation de réunions, contenant très peu d'information"
   ]
  },
  {
   "cell_type": "code",
   "execution_count": 36,
   "metadata": {
    "colab": {},
    "colab_type": "code",
    "id": "FX6AgjtUz1a3"
   },
   "outputs": [],
   "source": [
    "#Mail_Meeting\n",
    "Mail_Meeting = ['Start Date', 'Proposed agenda', 'TRANSSTATUS', 'CALENDAR ENRTY', 'HourAhead']\n",
    "for meeting in Mail_Meeting:\n",
    "    emails[meeting] = emails['Mail'].str.contains(meeting).astype(int)"
   ]
  },
  {
   "cell_type": "code",
   "execution_count": 37,
   "metadata": {},
   "outputs": [
    {
     "data": {
      "text/plain": [
       "(array([0, 1], dtype=int64),\n",
       " array([0, 1], dtype=int64),\n",
       " array([0], dtype=int64),\n",
       " array([0], dtype=int64),\n",
       " array([0, 1], dtype=int64))"
      ]
     },
     "execution_count": 37,
     "metadata": {},
     "output_type": "execute_result"
    }
   ],
   "source": [
    "emails['Start Date'].unique(),emails['Proposed agenda'].unique(),emails['TRANSSTATUS'].unique(),emails['CALENDAR ENRTY'].unique(),emails['HourAhead'].unique()"
   ]
  },
  {
   "cell_type": "code",
   "execution_count": 38,
   "metadata": {
    "colab": {
     "base_uri": "https://localhost:8080/",
     "height": 35
    },
    "colab_type": "code",
    "executionInfo": {
     "elapsed": 5560,
     "status": "ok",
     "timestamp": 1584537068395,
     "user": {
      "displayName": "DARRACQ Tristan",
      "photoUrl": "",
      "userId": "14646562363763262313"
     },
     "user_tz": -60
    },
    "id": "BgDKc6v6CEmg",
    "outputId": "d52d312f-6762-41ae-c0ed-a8847f14b77e"
   },
   "outputs": [],
   "source": [
    "### **Statistisques**\n",
    "#supp=df.shape[0] -y.shape[0]\n",
    "#per=100*round(supp/df.shape[0],2)\n",
    "#print(f\"Nous avons supprimé {supp} e-mails au total, c'est-à-dire {per}% de la database\")"
   ]
  },
  {
   "cell_type": "code",
   "execution_count": 39,
   "metadata": {},
   "outputs": [],
   "source": [
    "#Features supprimes:\n",
    "dataset_supp=emails[(emails.email_automatique_supprime_from==1) | \\\n",
    "                   (emails.email_automatique_supprime_to==1) | (emails['Start Date']==1) | \\\n",
    "                   (emails['Proposed agenda']==1) | (emails['TRANSSTATUS']==1) | \\\n",
    "                   (emails['CALENDAR ENRTY']==1) | (emails['HourAhead']==1) |\\\n",
    "                   (emails['Autohedge']==1) | (emails['AutoReply']==1) | \\\n",
    "                   (emails['doctype_html']==1) | (emails['Auto Reply']==1) | \\\n",
    "                   (emails['From_newsletter']==1) | (emails['FREE']==1)|\\\n",
    "                   (emails['newsletter_suppressed']==1) | (emails['enron_mentions']==1) | \\\n",
    "                   (emails['unsubscribe']==1)]\n",
    "\n",
    "\n",
    "dataset_supp_thread=emails[(emails.Thread==1)]\n",
    "\n"
   ]
  },
  {
   "cell_type": "code",
   "execution_count": 40,
   "metadata": {},
   "outputs": [
    {
     "name": "stdout",
     "output_type": "stream",
     "text": [
      "Nous pouvons supprimer 12163 e-mails au total avec les threads sans perdre d'informations, c'est-à-dire 0.21% de la database\n"
     ]
    }
   ],
   "source": [
    "#Thread\n",
    "supp_thread=dataset_supp_thread.shape[0]/emails.shape[0]\n",
    "nb_thread=dataset_supp_thread.shape[0]\n",
    "print(\"Nous pouvons supprimer {} e-mails au total avec les threads sans perdre d'informations, c'est-à-dire {}% de la database\".format(nb_thread,round(supp_thread,2)))"
   ]
  },
  {
   "cell_type": "code",
   "execution_count": 41,
   "metadata": {},
   "outputs": [
    {
     "name": "stdout",
     "output_type": "stream",
     "text": [
      "Nous pouvons supprimer 6553 e-mails au total avec les threads sans perdre d'informations, c'est-à-dire 0.11% de la database\n"
     ]
    }
   ],
   "source": [
    "#Features suppression\n",
    "supp_features=dataset_supp.shape[0]/emails.shape[0]\n",
    "nb_features=dataset_supp.shape[0]\n",
    "print(\"Nous pouvons supprimer {} e-mails au total avec les threads sans perdre d'informations, c'est-à-dire {}% de la database\".format(nb_features,round(supp_features,2)))"
   ]
  },
  {
   "cell_type": "code",
   "execution_count": 42,
   "metadata": {},
   "outputs": [],
   "source": [
    "dataset_keep=emails[(emails.Thread!=1) & (emails.email_automatique_supprime_from!=1) & \\\n",
    "                   (emails.email_automatique_supprime_to!=1) & (emails['Start Date']!=1) & \\\n",
    "                   (emails['Proposed agenda']!=1) & (emails['TRANSSTATUS']!=1) & \\\n",
    "                   (emails['CALENDAR ENRTY']!=1) & (emails['HourAhead']!=1) &\\\n",
    "                   (emails['Autohedge']!=1) & (emails['AutoReply']!=1) & \\\n",
    "                   (emails['doctype_html']!=1) & (emails['Auto Reply']!=1) & \\\n",
    "                   (emails['From_newsletter']!=1) & (emails['FREE']!=1) & \\\n",
    "                   (emails['newsletter_suppressed']!=1) & (emails['enron_mentions']!=1) & \\\n",
    "                   (emails['unsubscribe']!=1)]"
   ]
  },
  {
   "cell_type": "code",
   "execution_count": 43,
   "metadata": {},
   "outputs": [
    {
     "data": {
      "text/plain": [
       "40719"
      ]
     },
     "execution_count": 43,
     "metadata": {},
     "output_type": "execute_result"
    }
   ],
   "source": [
    "dataset_keep.shape[0]"
   ]
  },
  {
   "cell_type": "code",
   "execution_count": 45,
   "metadata": {},
   "outputs": [],
   "source": [
    "dataset_labelisation=pd.read_csv('data_labelisation_final.csv')"
   ]
  },
  {
   "cell_type": "code",
   "execution_count": 46,
   "metadata": {},
   "outputs": [],
   "source": [
    "indice_1=emails.index.values\n",
    "indice_2=dataset_labelisation.Indice_ancien.values"
   ]
  },
  {
   "cell_type": "code",
   "execution_count": 47,
   "metadata": {},
   "outputs": [
    {
     "data": {
      "text/plain": [
       "(0, 62174, 1, 62174)"
      ]
     },
     "execution_count": 47,
     "metadata": {},
     "output_type": "execute_result"
    }
   ],
   "source": [
    "np.min(indice_1),np.max(indice_1),np.min(indice_2),np.max(indice_2)"
   ]
  },
  {
   "cell_type": "code",
   "execution_count": 48,
   "metadata": {},
   "outputs": [],
   "source": [
    "test=emails.merge(dataset_labelisation, how='outer', left_index=True, right_on=[\"Indice_ancien\"])"
   ]
  },
  {
   "cell_type": "code",
   "execution_count": 49,
   "metadata": {},
   "outputs": [],
   "source": [
    "df_common=test[test[[\"From_x\",\"From_y\"]].apply(lambda x : x[0]==x[1],axis=1)]"
   ]
  },
  {
   "cell_type": "code",
   "execution_count": 50,
   "metadata": {},
   "outputs": [
    {
     "data": {
      "text/plain": [
       "40480"
      ]
     },
     "execution_count": 50,
     "metadata": {},
     "output_type": "execute_result"
    }
   ],
   "source": [
    "len(df_common)#So it is good "
   ]
  },
  {
   "cell_type": "code",
   "execution_count": 51,
   "metadata": {},
   "outputs": [],
   "source": [
    "emails=emails.merge(dataset_labelisation[['Indice_ancien','importance']], how='outer', left_index=True, right_on=[\"Indice_ancien\"])\n"
   ]
  },
  {
   "cell_type": "code",
   "execution_count": 52,
   "metadata": {},
   "outputs": [],
   "source": [
    "emails=emails.reset_index()"
   ]
  },
  {
   "cell_type": "code",
   "execution_count": 53,
   "metadata": {},
   "outputs": [],
   "source": [
    "emails.rename(columns={'index':'indice'},inplace=True)"
   ]
  },
  {
   "cell_type": "code",
   "execution_count": 54,
   "metadata": {},
   "outputs": [],
   "source": [
    "emails.indice=emails.indice.astype('Int64')"
   ]
  },
  {
   "cell_type": "code",
   "execution_count": 55,
   "metadata": {},
   "outputs": [
    {
     "data": {
      "text/html": [
       "<div>\n",
       "<style scoped>\n",
       "    .dataframe tbody tr th:only-of-type {\n",
       "        vertical-align: middle;\n",
       "    }\n",
       "\n",
       "    .dataframe tbody tr th {\n",
       "        vertical-align: top;\n",
       "    }\n",
       "\n",
       "    .dataframe thead th {\n",
       "        text-align: right;\n",
       "    }\n",
       "</style>\n",
       "<table border=\"1\" class=\"dataframe\">\n",
       "  <thead>\n",
       "    <tr style=\"text-align: right;\">\n",
       "      <th></th>\n",
       "      <th>indice</th>\n",
       "      <th>Date</th>\n",
       "      <th>From</th>\n",
       "      <th>To</th>\n",
       "      <th>Cc</th>\n",
       "      <th>X-bcc</th>\n",
       "      <th>Subject</th>\n",
       "      <th>Mail</th>\n",
       "      <th>user</th>\n",
       "      <th>polarity</th>\n",
       "      <th>...</th>\n",
       "      <th>Autohedge</th>\n",
       "      <th>AutoReply</th>\n",
       "      <th>Auto Reply</th>\n",
       "      <th>Start Date</th>\n",
       "      <th>Proposed agenda</th>\n",
       "      <th>TRANSSTATUS</th>\n",
       "      <th>CALENDAR ENRTY</th>\n",
       "      <th>HourAhead</th>\n",
       "      <th>Indice_ancien</th>\n",
       "      <th>importance</th>\n",
       "    </tr>\n",
       "  </thead>\n",
       "  <tbody>\n",
       "    <tr>\n",
       "      <td>0</td>\n",
       "      <td>NaN</td>\n",
       "      <td>1998-12-07 08:00:00</td>\n",
       "      <td>jeff.dasovich@enron.com</td>\n",
       "      <td>None</td>\n",
       "      <td>No Cc</td>\n",
       "      <td>NaN</td>\n",
       "      <td>Edisoninterconnection</td>\n",
       "      <td>When: Monday, December 07, 1998 10:30 am-12:00...</td>\n",
       "      <td>dasovich-j</td>\n",
       "      <td>0.000000</td>\n",
       "      <td>...</td>\n",
       "      <td>0</td>\n",
       "      <td>0</td>\n",
       "      <td>0</td>\n",
       "      <td>0</td>\n",
       "      <td>0</td>\n",
       "      <td>0</td>\n",
       "      <td>0</td>\n",
       "      <td>0</td>\n",
       "      <td>0</td>\n",
       "      <td>NaN</td>\n",
       "    </tr>\n",
       "    <tr>\n",
       "      <td>1</td>\n",
       "      <td>22742</td>\n",
       "      <td>1999-04-01 16:39:00</td>\n",
       "      <td>marc.phillips@enron.com</td>\n",
       "      <td>kyle.purvis@enron.com, allan.weatherford@enron...</td>\n",
       "      <td>william.kendrick@enron.com, david.nutt@enron.c...</td>\n",
       "      <td>NaN</td>\n",
       "      <td>Texas Compliance Certification Forms Reminder</td>\n",
       "      <td>I was at a TXOGA meeting last week and I was i...</td>\n",
       "      <td>campbell-l</td>\n",
       "      <td>-0.093750</td>\n",
       "      <td>...</td>\n",
       "      <td>0</td>\n",
       "      <td>0</td>\n",
       "      <td>0</td>\n",
       "      <td>0</td>\n",
       "      <td>0</td>\n",
       "      <td>0</td>\n",
       "      <td>0</td>\n",
       "      <td>0</td>\n",
       "      <td>1</td>\n",
       "      <td>NaN</td>\n",
       "    </tr>\n",
       "    <tr>\n",
       "      <td>2</td>\n",
       "      <td>NaN</td>\n",
       "      <td>1999-04-02 08:06:00</td>\n",
       "      <td>team.kingman-needles@enron.com</td>\n",
       "      <td>None</td>\n",
       "      <td>rich.jolly@enron.com, david.roensch@enron.com,...</td>\n",
       "      <td>NaN</td>\n",
       "      <td>PGE Sampleing Report</td>\n",
       "      <td>Notice the sample results are much higher than...</td>\n",
       "      <td>campbell-l</td>\n",
       "      <td>0.150000</td>\n",
       "      <td>...</td>\n",
       "      <td>0</td>\n",
       "      <td>0</td>\n",
       "      <td>0</td>\n",
       "      <td>0</td>\n",
       "      <td>0</td>\n",
       "      <td>0</td>\n",
       "      <td>0</td>\n",
       "      <td>0</td>\n",
       "      <td>2</td>\n",
       "      <td>NaN</td>\n",
       "    </tr>\n",
       "    <tr>\n",
       "      <td>3</td>\n",
       "      <td>828</td>\n",
       "      <td>1999-04-02 11:15:00</td>\n",
       "      <td>team.san-juan-laplata@enron.com</td>\n",
       "      <td>larry.campbell@enron.com</td>\n",
       "      <td>rick.smith@enron.com</td>\n",
       "      <td>NaN</td>\n",
       "      <td>N.O.V. Updates</td>\n",
       "      <td>Here are the latest and greatest.</td>\n",
       "      <td>campbell-l</td>\n",
       "      <td>0.750000</td>\n",
       "      <td>...</td>\n",
       "      <td>0</td>\n",
       "      <td>0</td>\n",
       "      <td>0</td>\n",
       "      <td>0</td>\n",
       "      <td>0</td>\n",
       "      <td>0</td>\n",
       "      <td>0</td>\n",
       "      <td>0</td>\n",
       "      <td>3</td>\n",
       "      <td>NaN</td>\n",
       "    </tr>\n",
       "    <tr>\n",
       "      <td>4</td>\n",
       "      <td>25716</td>\n",
       "      <td>1999-04-03 12:45:00</td>\n",
       "      <td>michel.nelson@enron.com</td>\n",
       "      <td>dave.schafer@enron.com, jeffery.fawcett@enron....</td>\n",
       "      <td>No Cc</td>\n",
       "      <td>NaN</td>\n",
       "      <td>PGE Letter Spreadsheet</td>\n",
       "      <td>cc:Mail Forwarded From: Michel E Nelson AT am...</td>\n",
       "      <td>campbell-l</td>\n",
       "      <td>-0.008333</td>\n",
       "      <td>...</td>\n",
       "      <td>0</td>\n",
       "      <td>0</td>\n",
       "      <td>0</td>\n",
       "      <td>0</td>\n",
       "      <td>0</td>\n",
       "      <td>0</td>\n",
       "      <td>0</td>\n",
       "      <td>0</td>\n",
       "      <td>4</td>\n",
       "      <td>NaN</td>\n",
       "    </tr>\n",
       "  </tbody>\n",
       "</table>\n",
       "<p>5 rows × 44 columns</p>\n",
       "</div>"
      ],
      "text/plain": [
       "   indice                Date                             From  \\\n",
       "0     NaN 1998-12-07 08:00:00          jeff.dasovich@enron.com   \n",
       "1   22742 1999-04-01 16:39:00          marc.phillips@enron.com   \n",
       "2     NaN 1999-04-02 08:06:00   team.kingman-needles@enron.com   \n",
       "3     828 1999-04-02 11:15:00  team.san-juan-laplata@enron.com   \n",
       "4   25716 1999-04-03 12:45:00          michel.nelson@enron.com   \n",
       "\n",
       "                                                  To  \\\n",
       "0                                               None   \n",
       "1  kyle.purvis@enron.com, allan.weatherford@enron...   \n",
       "2                                               None   \n",
       "3                           larry.campbell@enron.com   \n",
       "4  dave.schafer@enron.com, jeffery.fawcett@enron....   \n",
       "\n",
       "                                                  Cc X-bcc  \\\n",
       "0                                              No Cc   NaN   \n",
       "1  william.kendrick@enron.com, david.nutt@enron.c...   NaN   \n",
       "2  rich.jolly@enron.com, david.roensch@enron.com,...   NaN   \n",
       "3                               rick.smith@enron.com   NaN   \n",
       "4                                              No Cc   NaN   \n",
       "\n",
       "                                         Subject  \\\n",
       "0                          Edisoninterconnection   \n",
       "1  Texas Compliance Certification Forms Reminder   \n",
       "2                           PGE Sampleing Report   \n",
       "3                                 N.O.V. Updates   \n",
       "4                         PGE Letter Spreadsheet   \n",
       "\n",
       "                                                Mail        user  polarity  \\\n",
       "0  When: Monday, December 07, 1998 10:30 am-12:00...  dasovich-j  0.000000   \n",
       "1  I was at a TXOGA meeting last week and I was i...  campbell-l -0.093750   \n",
       "2  Notice the sample results are much higher than...  campbell-l  0.150000   \n",
       "3                  Here are the latest and greatest.  campbell-l  0.750000   \n",
       "4   cc:Mail Forwarded From: Michel E Nelson AT am...  campbell-l -0.008333   \n",
       "\n",
       "   ...  Autohedge  AutoReply Auto Reply  Start Date  Proposed agenda  \\\n",
       "0  ...          0          0          0           0                0   \n",
       "1  ...          0          0          0           0                0   \n",
       "2  ...          0          0          0           0                0   \n",
       "3  ...          0          0          0           0                0   \n",
       "4  ...          0          0          0           0                0   \n",
       "\n",
       "   TRANSSTATUS  CALENDAR ENRTY  HourAhead  Indice_ancien  importance  \n",
       "0            0               0          0              0         NaN  \n",
       "1            0               0          0              1         NaN  \n",
       "2            0               0          0              2         NaN  \n",
       "3            0               0          0              3         NaN  \n",
       "4            0               0          0              4         NaN  \n",
       "\n",
       "[5 rows x 44 columns]"
      ]
     },
     "execution_count": 55,
     "metadata": {},
     "output_type": "execute_result"
    }
   ],
   "source": [
    "emails.head()"
   ]
  },
  {
   "cell_type": "code",
   "execution_count": 56,
   "metadata": {},
   "outputs": [],
   "source": [
    "def  clean_addresses_mail(dataset, text_field):\n",
    "    dataset[text_field] = dataset[text_field].apply(lambda elem: re.sub(r\"\\t\", \"\", elem))  \n",
    "    dataset[text_field] = dataset[text_field].apply(lambda elem: re.sub(\"'.'\", \".\", elem))  \n",
    "    dataset[text_field] = dataset[text_field].apply(lambda elem: re.sub('\".\"', '.', elem))  \n",
    "    dataset[text_field] = dataset[text_field].apply(lambda elem: re.sub(\" \", \"\", elem))  \n",
    "\n",
    "    return dataset\n",
    "emails = clean_addresses_mail(emails, \"To\")\n",
    "emails = clean_addresses_mail(emails, \"From\")\n",
    "emails = clean_addresses_mail(emails, \"Cc\")"
   ]
  },
  {
   "cell_type": "code",
   "execution_count": 57,
   "metadata": {},
   "outputs": [],
   "source": [
    "#check les index\n",
    "emails.From[56236]='todd.delahoussaye@enron.com' \n",
    "emails.To[24578]='juliann.kemp@enron.com'"
   ]
  },
  {
   "cell_type": "code",
   "execution_count": 58,
   "metadata": {},
   "outputs": [],
   "source": [
    "emails.to_csv('Dataset_avant_graph.csv',index=False)"
   ]
  },
  {
   "cell_type": "code",
   "execution_count": 59,
   "metadata": {},
   "outputs": [],
   "source": [
    "def From_To_for_graph(dataset):\n",
    "    df=dataset[0:1]\n",
    "    liste_from_graphe1=[]\n",
    "    liste_to_graphe1=[]\n",
    "    for i in range(len(dataset)):\n",
    "        if len(dataset.To[i].split(\",\"))==1 and dataset.Cc[i]==\"NoCc\":\n",
    "            liste_from_graphe1.append(dataset.From[i])\n",
    "            liste_to_graphe1.append(dataset.To[i])\n",
    "            df=df.append([dataset[i:i+1]]*1,ignore_index=True)\n",
    "        elif len(dataset.To[i].split(\",\"))>1 and dataset.Cc[i]==\"NoCc\":\n",
    "            multiplier=len(dataset.To[i].split(\",\"))\n",
    "            df=df.append([dataset[i:i+1]]*multiplier,ignore_index=True)\n",
    "            for j in range(multiplier):\n",
    "                liste_from_graphe1.append(dataset.From[i])\n",
    "                liste_to_graphe1.append(dataset.To[i].split(',')[j])\n",
    "        else:\n",
    "            multiplier1=len(dataset.To[i].split(\",\"))\n",
    "            multiplier2=len(dataset.Cc[i].split(\",\"))\n",
    "            df=df.append([dataset[i:i+1]]*(multiplier1+multiplier2),ignore_index=True)\n",
    "            for k in range(multiplier1):\n",
    "                liste_from_graphe1.append(dataset.From[i])\n",
    "                liste_to_graphe1.append(dataset.To[i].split(',')[k])\n",
    "            for l in range(multiplier2):\n",
    "                liste_from_graphe1.append(dataset.From[i])\n",
    "                liste_to_graphe1.append(dataset.Cc[i].split(',')[l])\n",
    "    df.drop([0],inplace=True)\n",
    "    return liste_from_graphe1,liste_to_graphe1,df"
   ]
  },
  {
   "cell_type": "code",
   "execution_count": 60,
   "metadata": {},
   "outputs": [],
   "source": [
    "liste_from_graphe,liste_to_graphe,df1=From_To_for_graph(emails)"
   ]
  },
  {
   "cell_type": "code",
   "execution_count": 61,
   "metadata": {},
   "outputs": [],
   "source": [
    "df1.to_csv('df1.csv',index=False)"
   ]
  },
  {
   "cell_type": "code",
   "execution_count": 62,
   "metadata": {},
   "outputs": [],
   "source": [
    "df_liste1=pd.DataFrame(liste_from_graphe,columns=['liste_from'])\n",
    "df_liste1.to_csv('df_liste1.csv',index=False)"
   ]
  },
  {
   "cell_type": "code",
   "execution_count": 63,
   "metadata": {},
   "outputs": [],
   "source": [
    "df_liste2=pd.DataFrame(liste_to_graphe,columns=['liste_to'])\n",
    "df_liste2.to_csv('df_liste2.csv',index=False)"
   ]
  },
  {
   "cell_type": "code",
   "execution_count": 79,
   "metadata": {},
   "outputs": [
    {
     "data": {
      "text/plain": [
       "(473783, 473783, 473783)"
      ]
     },
     "execution_count": 79,
     "metadata": {},
     "output_type": "execute_result"
    }
   ],
   "source": [
    "len(liste_from_graphe),len(liste_to_graphe),len(df1)"
   ]
  },
  {
   "cell_type": "code",
   "execution_count": 80,
   "metadata": {},
   "outputs": [],
   "source": [
    "def clean_pr_graphe(liste_finale1,liste_finale2,dataset):\n",
    "    supp=0\n",
    "    liste_remove_1=[]\n",
    "    liste_remove_2=[]\n",
    "    liste_return1=[]\n",
    "    liste_return2=[]\n",
    "    index_to_suppress=[]\n",
    "    for i in range(len(liste_finale1)):\n",
    "        if len(re.findall(\"<|>|\\/|�|^'|^\\.|#|^-\",liste_finale1[i]))>0 or len(re.findall(\"<|>|\\/|�|^'|^\\.|#|^-\",liste_finale2[i]))>0:\n",
    "            liste_remove_1.append(liste_finale1[i])\n",
    "            liste_remove_2.append(liste_finale2[i])\n",
    "            index_to_suppress.append(i)\n",
    "            #liste_finale1.remove(elem1)\n",
    "            #liste_finale2.remove(elem2)\n",
    "            supp+=1\n",
    "        else:\n",
    "            liste_return1.append(liste_finale1[i])\n",
    "            liste_return2.append(liste_finale2[i])\n",
    "    dataset.drop(index_to_suppress,inplace=True)       \n",
    "    print(\"Il y a {} emails supprimés\".format(supp))\n",
    "    return liste_return1,liste_return2,liste_remove_1,liste_remove_2,dataset   "
   ]
  },
  {
   "cell_type": "code",
   "execution_count": 81,
   "metadata": {},
   "outputs": [
    {
     "name": "stdout",
     "output_type": "stream",
     "text": [
      "Il y a 4787 emails supprimés\n"
     ]
    }
   ],
   "source": [
    "liste_from_graphe_fin,liste_to_graphe_fin,check_1,check_2,df2=clean_pr_graphe(liste_from_graphe,liste_to_graphe,df1)"
   ]
  },
  {
   "cell_type": "code",
   "execution_count": 82,
   "metadata": {
    "scrolled": true
   },
   "outputs": [
    {
     "data": {
      "text/html": [
       "<div>\n",
       "<style scoped>\n",
       "    .dataframe tbody tr th:only-of-type {\n",
       "        vertical-align: middle;\n",
       "    }\n",
       "\n",
       "    .dataframe tbody tr th {\n",
       "        vertical-align: top;\n",
       "    }\n",
       "\n",
       "    .dataframe thead th {\n",
       "        text-align: right;\n",
       "    }\n",
       "</style>\n",
       "<table border=\"1\" class=\"dataframe\">\n",
       "  <thead>\n",
       "    <tr style=\"text-align: right;\">\n",
       "      <th></th>\n",
       "      <th>From</th>\n",
       "      <th>To</th>\n",
       "      <th>nb_emails</th>\n",
       "    </tr>\n",
       "  </thead>\n",
       "  <tbody>\n",
       "    <tr>\n",
       "      <td>0</td>\n",
       "      <td>pete.davis@enron.com</td>\n",
       "      <td>pete.davis@enron.com</td>\n",
       "      <td>1208</td>\n",
       "    </tr>\n",
       "    <tr>\n",
       "      <td>1</td>\n",
       "      <td>outlook.team@enron.com</td>\n",
       "      <td>None</td>\n",
       "      <td>1030</td>\n",
       "    </tr>\n",
       "    <tr>\n",
       "      <td>2</td>\n",
       "      <td>jeff.dasovich@enron.com</td>\n",
       "      <td>susan.mara@enron.com</td>\n",
       "      <td>1019</td>\n",
       "    </tr>\n",
       "    <tr>\n",
       "      <td>3</td>\n",
       "      <td>jeff.dasovich@enron.com</td>\n",
       "      <td>paul.kaufman@enron.com</td>\n",
       "      <td>976</td>\n",
       "    </tr>\n",
       "    <tr>\n",
       "      <td>4</td>\n",
       "      <td>jeff.dasovich@enron.com</td>\n",
       "      <td>richard.shapiro@enron.com</td>\n",
       "      <td>947</td>\n",
       "    </tr>\n",
       "    <tr>\n",
       "      <td>...</td>\n",
       "      <td>...</td>\n",
       "      <td>...</td>\n",
       "      <td>...</td>\n",
       "    </tr>\n",
       "    <tr>\n",
       "      <td>121647</td>\n",
       "      <td>kenneth.lay@enron.com</td>\n",
       "      <td>nezi.marvin@enron.com</td>\n",
       "      <td>1</td>\n",
       "    </tr>\n",
       "    <tr>\n",
       "      <td>121648</td>\n",
       "      <td>kenneth.lay@enron.com</td>\n",
       "      <td>nicki.daw@enron.com</td>\n",
       "      <td>1</td>\n",
       "    </tr>\n",
       "    <tr>\n",
       "      <td>121649</td>\n",
       "      <td>kenneth.lay@enron.com</td>\n",
       "      <td>nikolas.wexler@enron.com</td>\n",
       "      <td>1</td>\n",
       "    </tr>\n",
       "    <tr>\n",
       "      <td>121650</td>\n",
       "      <td>kenneth.lay@enron.com</td>\n",
       "      <td>olalekan.oladeji@enron.com</td>\n",
       "      <td>1</td>\n",
       "    </tr>\n",
       "    <tr>\n",
       "      <td>121651</td>\n",
       "      <td>0_19619_e719a090-7eca-d011-9d39-0000f84121eb_u...</td>\n",
       "      <td>mcuilla@ect.enron.com</td>\n",
       "      <td>1</td>\n",
       "    </tr>\n",
       "  </tbody>\n",
       "</table>\n",
       "<p>121652 rows × 3 columns</p>\n",
       "</div>"
      ],
      "text/plain": [
       "                                                     From  \\\n",
       "0                                    pete.davis@enron.com   \n",
       "1                                  outlook.team@enron.com   \n",
       "2                                 jeff.dasovich@enron.com   \n",
       "3                                 jeff.dasovich@enron.com   \n",
       "4                                 jeff.dasovich@enron.com   \n",
       "...                                                   ...   \n",
       "121647                              kenneth.lay@enron.com   \n",
       "121648                              kenneth.lay@enron.com   \n",
       "121649                              kenneth.lay@enron.com   \n",
       "121650                              kenneth.lay@enron.com   \n",
       "121651  0_19619_e719a090-7eca-d011-9d39-0000f84121eb_u...   \n",
       "\n",
       "                                To  nb_emails  \n",
       "0             pete.davis@enron.com       1208  \n",
       "1                             None       1030  \n",
       "2             susan.mara@enron.com       1019  \n",
       "3           paul.kaufman@enron.com        976  \n",
       "4        richard.shapiro@enron.com        947  \n",
       "...                            ...        ...  \n",
       "121647       nezi.marvin@enron.com          1  \n",
       "121648         nicki.daw@enron.com          1  \n",
       "121649    nikolas.wexler@enron.com          1  \n",
       "121650  olalekan.oladeji@enron.com          1  \n",
       "121651       mcuilla@ect.enron.com          1  \n",
       "\n",
       "[121652 rows x 3 columns]"
      ]
     },
     "execution_count": 82,
     "metadata": {},
     "output_type": "execute_result"
    }
   ],
   "source": [
    "d = {'From':liste_from_graphe_fin,'To':liste_to_graphe_fin}\n",
    "dataset_nb = pd.DataFrame(d)\n",
    "df_from_to=dataset_nb.groupby(['From','To']).size().sort_values(ascending=False).to_frame('nb_emails').reset_index()\n",
    "df_from_to"
   ]
  },
  {
   "cell_type": "code",
   "execution_count": null,
   "metadata": {},
   "outputs": [],
   "source": [
    "df_from_to.to_csv('df_from_to.csv',index=False)"
   ]
  },
  {
   "cell_type": "code",
   "execution_count": 83,
   "metadata": {},
   "outputs": [],
   "source": [
    "df2.rename(columns={\"From\": \"From_ancien\", \"To\": \"To_ancien\"}, inplace=True)"
   ]
  },
  {
   "cell_type": "code",
   "execution_count": 84,
   "metadata": {},
   "outputs": [],
   "source": [
    "df2['From']=liste_from_graphe_fin\n",
    "df2['To']=liste_to_graphe_fin"
   ]
  },
  {
   "cell_type": "code",
   "execution_count": 86,
   "metadata": {},
   "outputs": [],
   "source": [
    "liste_tot_emails=list(set(liste_from_graphe_fin+liste_to_graphe_fin))"
   ]
  },
  {
   "cell_type": "code",
   "execution_count": 87,
   "metadata": {},
   "outputs": [],
   "source": [
    "liste_emails_from=df2.From\n",
    "From_fin = liste_emails_from.apply(lambda x : liste_tot_emails.index(x)) \n"
   ]
  },
  {
   "cell_type": "code",
   "execution_count": 88,
   "metadata": {},
   "outputs": [],
   "source": [
    "liste_emails_to=df2.To\n",
    "To_fin = liste_emails_to.apply(lambda x : liste_tot_emails.index(x)) \n"
   ]
  },
  {
   "cell_type": "code",
   "execution_count": 89,
   "metadata": {},
   "outputs": [],
   "source": [
    "df3=df2.copy()"
   ]
  },
  {
   "cell_type": "code",
   "execution_count": 90,
   "metadata": {},
   "outputs": [],
   "source": [
    "df3['From_fin']=From_fin"
   ]
  },
  {
   "cell_type": "code",
   "execution_count": 91,
   "metadata": {},
   "outputs": [
    {
     "data": {
      "text/html": [
       "<div>\n",
       "<style scoped>\n",
       "    .dataframe tbody tr th:only-of-type {\n",
       "        vertical-align: middle;\n",
       "    }\n",
       "\n",
       "    .dataframe tbody tr th {\n",
       "        vertical-align: top;\n",
       "    }\n",
       "\n",
       "    .dataframe thead th {\n",
       "        text-align: right;\n",
       "    }\n",
       "</style>\n",
       "<table border=\"1\" class=\"dataframe\">\n",
       "  <thead>\n",
       "    <tr style=\"text-align: right;\">\n",
       "      <th></th>\n",
       "      <th>indice</th>\n",
       "      <th>Date</th>\n",
       "      <th>From_ancien</th>\n",
       "      <th>To_ancien</th>\n",
       "      <th>Cc</th>\n",
       "      <th>X-bcc</th>\n",
       "      <th>Subject</th>\n",
       "      <th>Mail</th>\n",
       "      <th>user</th>\n",
       "      <th>polarity</th>\n",
       "      <th>...</th>\n",
       "      <th>Auto Reply</th>\n",
       "      <th>Start Date</th>\n",
       "      <th>Proposed agenda</th>\n",
       "      <th>TRANSSTATUS</th>\n",
       "      <th>CALENDAR ENRTY</th>\n",
       "      <th>HourAhead</th>\n",
       "      <th>Indice_ancien</th>\n",
       "      <th>importance</th>\n",
       "      <th>From</th>\n",
       "      <th>To</th>\n",
       "    </tr>\n",
       "  </thead>\n",
       "  <tbody>\n",
       "    <tr>\n",
       "      <td>473779</td>\n",
       "      <td>NaN</td>\n",
       "      <td>2004-02-04 01:45:35</td>\n",
       "      <td>1800flowers.238953685@s2u2.com</td>\n",
       "      <td>ebass@enron.com</td>\n",
       "      <td>NoCc</td>\n",
       "      <td>NaN</td>\n",
       "      <td>Treat yourself to savings in our Post-Holiday ...</td>\n",
       "      <td>If you are seeing this message, your email cli...</td>\n",
       "      <td>bass-e</td>\n",
       "      <td>0.333333</td>\n",
       "      <td>...</td>\n",
       "      <td>0</td>\n",
       "      <td>0</td>\n",
       "      <td>0</td>\n",
       "      <td>0</td>\n",
       "      <td>0</td>\n",
       "      <td>0</td>\n",
       "      <td>62170</td>\n",
       "      <td>NaN</td>\n",
       "      <td>1800flowers.238953685@s2u2.com</td>\n",
       "      <td>ebass@enron.com</td>\n",
       "    </tr>\n",
       "    <tr>\n",
       "      <td>473780</td>\n",
       "      <td>NaN</td>\n",
       "      <td>2004-02-04 01:45:38</td>\n",
       "      <td>1800flowers.224433405@s2u2.com</td>\n",
       "      <td>ebass@enron.com</td>\n",
       "      <td>NoCc</td>\n",
       "      <td>NaN</td>\n",
       "      <td>SAVE $20 while sending gifts to everyone on yo...</td>\n",
       "      <td>If you are seeing this message, your email cli...</td>\n",
       "      <td>bass-e</td>\n",
       "      <td>0.333333</td>\n",
       "      <td>...</td>\n",
       "      <td>0</td>\n",
       "      <td>0</td>\n",
       "      <td>0</td>\n",
       "      <td>0</td>\n",
       "      <td>0</td>\n",
       "      <td>0</td>\n",
       "      <td>62171</td>\n",
       "      <td>NaN</td>\n",
       "      <td>1800flowers.224433405@s2u2.com</td>\n",
       "      <td>ebass@enron.com</td>\n",
       "    </tr>\n",
       "    <tr>\n",
       "      <td>473781</td>\n",
       "      <td>34749</td>\n",
       "      <td>2004-02-04 02:17:46</td>\n",
       "      <td>1800flowers.243967005@s2u2.com</td>\n",
       "      <td>scorman@enron.com</td>\n",
       "      <td>NoCc</td>\n",
       "      <td>NaN</td>\n",
       "      <td>Gifts to make your January celebrations special!</td>\n",
       "      <td>http://www.1800flowers.com/flowers/x_e.asp?r=...</td>\n",
       "      <td>corman-s</td>\n",
       "      <td>0.383535</td>\n",
       "      <td>...</td>\n",
       "      <td>0</td>\n",
       "      <td>0</td>\n",
       "      <td>0</td>\n",
       "      <td>0</td>\n",
       "      <td>0</td>\n",
       "      <td>0</td>\n",
       "      <td>62172</td>\n",
       "      <td>NaN</td>\n",
       "      <td>1800flowers.243967005@s2u2.com</td>\n",
       "      <td>scorman@enron.com</td>\n",
       "    </tr>\n",
       "    <tr>\n",
       "      <td>473782</td>\n",
       "      <td>20106</td>\n",
       "      <td>2020-12-24 23:36:06</td>\n",
       "      <td>jody421@hotmail.com</td>\n",
       "      <td>undisclosed.recipients@mailman.enron.com</td>\n",
       "      <td>NoCc</td>\n",
       "      <td>NaN</td>\n",
       "      <td>Tired Of Searching For Love In All The Wrong P...</td>\n",
       "      <td>htmlheadMETA HTTP-EQUIV=3D\"Expires\" CONTENT=3D...</td>\n",
       "      <td>campbell-l</td>\n",
       "      <td>-1.000000</td>\n",
       "      <td>...</td>\n",
       "      <td>0</td>\n",
       "      <td>0</td>\n",
       "      <td>0</td>\n",
       "      <td>0</td>\n",
       "      <td>0</td>\n",
       "      <td>0</td>\n",
       "      <td>62173</td>\n",
       "      <td>NaN</td>\n",
       "      <td>jody421@hotmail.com</td>\n",
       "      <td>undisclosed.recipients@mailman.enron.com</td>\n",
       "    </tr>\n",
       "    <tr>\n",
       "      <td>473783</td>\n",
       "      <td>2889</td>\n",
       "      <td>2020-12-29 20:53:46</td>\n",
       "      <td>jody421@hotmail.com</td>\n",
       "      <td>undisclosed.recipients@mailman.enron.com</td>\n",
       "      <td>NoCc</td>\n",
       "      <td>NaN</td>\n",
       "      <td>Jennifer Lopez - Nudity</td>\n",
       "      <td>htmlheadtitle::::&amp;gt; FREE LIFETIME VIP ACCEES...</td>\n",
       "      <td>campbell-l</td>\n",
       "      <td>0.109740</td>\n",
       "      <td>...</td>\n",
       "      <td>0</td>\n",
       "      <td>0</td>\n",
       "      <td>0</td>\n",
       "      <td>0</td>\n",
       "      <td>0</td>\n",
       "      <td>0</td>\n",
       "      <td>62174</td>\n",
       "      <td>NaN</td>\n",
       "      <td>jody421@hotmail.com</td>\n",
       "      <td>undisclosed.recipients@mailman.enron.com</td>\n",
       "    </tr>\n",
       "  </tbody>\n",
       "</table>\n",
       "<p>5 rows × 46 columns</p>\n",
       "</div>"
      ],
      "text/plain": [
       "        indice                Date                     From_ancien  \\\n",
       "473779     NaN 2004-02-04 01:45:35  1800flowers.238953685@s2u2.com   \n",
       "473780     NaN 2004-02-04 01:45:38  1800flowers.224433405@s2u2.com   \n",
       "473781   34749 2004-02-04 02:17:46  1800flowers.243967005@s2u2.com   \n",
       "473782   20106 2020-12-24 23:36:06             jody421@hotmail.com   \n",
       "473783    2889 2020-12-29 20:53:46             jody421@hotmail.com   \n",
       "\n",
       "                                       To_ancien    Cc X-bcc  \\\n",
       "473779                           ebass@enron.com  NoCc   NaN   \n",
       "473780                           ebass@enron.com  NoCc   NaN   \n",
       "473781                         scorman@enron.com  NoCc   NaN   \n",
       "473782  undisclosed.recipients@mailman.enron.com  NoCc   NaN   \n",
       "473783  undisclosed.recipients@mailman.enron.com  NoCc   NaN   \n",
       "\n",
       "                                                  Subject  \\\n",
       "473779  Treat yourself to savings in our Post-Holiday ...   \n",
       "473780  SAVE $20 while sending gifts to everyone on yo...   \n",
       "473781   Gifts to make your January celebrations special!   \n",
       "473782  Tired Of Searching For Love In All The Wrong P...   \n",
       "473783                            Jennifer Lopez - Nudity   \n",
       "\n",
       "                                                     Mail        user  \\\n",
       "473779  If you are seeing this message, your email cli...      bass-e   \n",
       "473780  If you are seeing this message, your email cli...      bass-e   \n",
       "473781   http://www.1800flowers.com/flowers/x_e.asp?r=...    corman-s   \n",
       "473782  htmlheadMETA HTTP-EQUIV=3D\"Expires\" CONTENT=3D...  campbell-l   \n",
       "473783  htmlheadtitle::::&gt; FREE LIFETIME VIP ACCEES...  campbell-l   \n",
       "\n",
       "        polarity  ...  Auto Reply  Start Date Proposed agenda  TRANSSTATUS  \\\n",
       "473779  0.333333  ...           0           0               0            0   \n",
       "473780  0.333333  ...           0           0               0            0   \n",
       "473781  0.383535  ...           0           0               0            0   \n",
       "473782 -1.000000  ...           0           0               0            0   \n",
       "473783  0.109740  ...           0           0               0            0   \n",
       "\n",
       "        CALENDAR ENRTY  HourAhead  Indice_ancien  importance  \\\n",
       "473779               0          0          62170         NaN   \n",
       "473780               0          0          62171         NaN   \n",
       "473781               0          0          62172         NaN   \n",
       "473782               0          0          62173         NaN   \n",
       "473783               0          0          62174         NaN   \n",
       "\n",
       "                                  From  \\\n",
       "473779  1800flowers.238953685@s2u2.com   \n",
       "473780  1800flowers.224433405@s2u2.com   \n",
       "473781  1800flowers.243967005@s2u2.com   \n",
       "473782             jody421@hotmail.com   \n",
       "473783             jody421@hotmail.com   \n",
       "\n",
       "                                              To  \n",
       "473779                           ebass@enron.com  \n",
       "473780                           ebass@enron.com  \n",
       "473781                         scorman@enron.com  \n",
       "473782  undisclosed.recipients@mailman.enron.com  \n",
       "473783  undisclosed.recipients@mailman.enron.com  \n",
       "\n",
       "[5 rows x 46 columns]"
      ]
     },
     "execution_count": 91,
     "metadata": {},
     "output_type": "execute_result"
    }
   ],
   "source": [
    "df2.tail()"
   ]
  },
  {
   "cell_type": "code",
   "execution_count": 92,
   "metadata": {
    "scrolled": true
   },
   "outputs": [
    {
     "data": {
      "text/html": [
       "<div>\n",
       "<style scoped>\n",
       "    .dataframe tbody tr th:only-of-type {\n",
       "        vertical-align: middle;\n",
       "    }\n",
       "\n",
       "    .dataframe tbody tr th {\n",
       "        vertical-align: top;\n",
       "    }\n",
       "\n",
       "    .dataframe thead th {\n",
       "        text-align: right;\n",
       "    }\n",
       "</style>\n",
       "<table border=\"1\" class=\"dataframe\">\n",
       "  <thead>\n",
       "    <tr style=\"text-align: right;\">\n",
       "      <th></th>\n",
       "      <th>indice</th>\n",
       "      <th>Date</th>\n",
       "      <th>From_ancien</th>\n",
       "      <th>To_ancien</th>\n",
       "      <th>Cc</th>\n",
       "      <th>X-bcc</th>\n",
       "      <th>Subject</th>\n",
       "      <th>Mail</th>\n",
       "      <th>user</th>\n",
       "      <th>polarity</th>\n",
       "      <th>...</th>\n",
       "      <th>Start Date</th>\n",
       "      <th>Proposed agenda</th>\n",
       "      <th>TRANSSTATUS</th>\n",
       "      <th>CALENDAR ENRTY</th>\n",
       "      <th>HourAhead</th>\n",
       "      <th>Indice_ancien</th>\n",
       "      <th>importance</th>\n",
       "      <th>From</th>\n",
       "      <th>To</th>\n",
       "      <th>From_fin</th>\n",
       "    </tr>\n",
       "  </thead>\n",
       "  <tbody>\n",
       "    <tr>\n",
       "      <td>473779</td>\n",
       "      <td>NaN</td>\n",
       "      <td>2004-02-04 01:45:35</td>\n",
       "      <td>1800flowers.238953685@s2u2.com</td>\n",
       "      <td>ebass@enron.com</td>\n",
       "      <td>NoCc</td>\n",
       "      <td>NaN</td>\n",
       "      <td>Treat yourself to savings in our Post-Holiday ...</td>\n",
       "      <td>If you are seeing this message, your email cli...</td>\n",
       "      <td>bass-e</td>\n",
       "      <td>0.333333</td>\n",
       "      <td>...</td>\n",
       "      <td>0</td>\n",
       "      <td>0</td>\n",
       "      <td>0</td>\n",
       "      <td>0</td>\n",
       "      <td>0</td>\n",
       "      <td>62170</td>\n",
       "      <td>NaN</td>\n",
       "      <td>1800flowers.238953685@s2u2.com</td>\n",
       "      <td>ebass@enron.com</td>\n",
       "      <td>7711</td>\n",
       "    </tr>\n",
       "    <tr>\n",
       "      <td>473780</td>\n",
       "      <td>NaN</td>\n",
       "      <td>2004-02-04 01:45:38</td>\n",
       "      <td>1800flowers.224433405@s2u2.com</td>\n",
       "      <td>ebass@enron.com</td>\n",
       "      <td>NoCc</td>\n",
       "      <td>NaN</td>\n",
       "      <td>SAVE $20 while sending gifts to everyone on yo...</td>\n",
       "      <td>If you are seeing this message, your email cli...</td>\n",
       "      <td>bass-e</td>\n",
       "      <td>0.333333</td>\n",
       "      <td>...</td>\n",
       "      <td>0</td>\n",
       "      <td>0</td>\n",
       "      <td>0</td>\n",
       "      <td>0</td>\n",
       "      <td>0</td>\n",
       "      <td>62171</td>\n",
       "      <td>NaN</td>\n",
       "      <td>1800flowers.224433405@s2u2.com</td>\n",
       "      <td>ebass@enron.com</td>\n",
       "      <td>1763</td>\n",
       "    </tr>\n",
       "    <tr>\n",
       "      <td>473781</td>\n",
       "      <td>34749</td>\n",
       "      <td>2004-02-04 02:17:46</td>\n",
       "      <td>1800flowers.243967005@s2u2.com</td>\n",
       "      <td>scorman@enron.com</td>\n",
       "      <td>NoCc</td>\n",
       "      <td>NaN</td>\n",
       "      <td>Gifts to make your January celebrations special!</td>\n",
       "      <td>http://www.1800flowers.com/flowers/x_e.asp?r=...</td>\n",
       "      <td>corman-s</td>\n",
       "      <td>0.383535</td>\n",
       "      <td>...</td>\n",
       "      <td>0</td>\n",
       "      <td>0</td>\n",
       "      <td>0</td>\n",
       "      <td>0</td>\n",
       "      <td>0</td>\n",
       "      <td>62172</td>\n",
       "      <td>NaN</td>\n",
       "      <td>1800flowers.243967005@s2u2.com</td>\n",
       "      <td>scorman@enron.com</td>\n",
       "      <td>18799</td>\n",
       "    </tr>\n",
       "    <tr>\n",
       "      <td>473782</td>\n",
       "      <td>20106</td>\n",
       "      <td>2020-12-24 23:36:06</td>\n",
       "      <td>jody421@hotmail.com</td>\n",
       "      <td>undisclosed.recipients@mailman.enron.com</td>\n",
       "      <td>NoCc</td>\n",
       "      <td>NaN</td>\n",
       "      <td>Tired Of Searching For Love In All The Wrong P...</td>\n",
       "      <td>htmlheadMETA HTTP-EQUIV=3D\"Expires\" CONTENT=3D...</td>\n",
       "      <td>campbell-l</td>\n",
       "      <td>-1.000000</td>\n",
       "      <td>...</td>\n",
       "      <td>0</td>\n",
       "      <td>0</td>\n",
       "      <td>0</td>\n",
       "      <td>0</td>\n",
       "      <td>0</td>\n",
       "      <td>62173</td>\n",
       "      <td>NaN</td>\n",
       "      <td>jody421@hotmail.com</td>\n",
       "      <td>undisclosed.recipients@mailman.enron.com</td>\n",
       "      <td>3524</td>\n",
       "    </tr>\n",
       "    <tr>\n",
       "      <td>473783</td>\n",
       "      <td>2889</td>\n",
       "      <td>2020-12-29 20:53:46</td>\n",
       "      <td>jody421@hotmail.com</td>\n",
       "      <td>undisclosed.recipients@mailman.enron.com</td>\n",
       "      <td>NoCc</td>\n",
       "      <td>NaN</td>\n",
       "      <td>Jennifer Lopez - Nudity</td>\n",
       "      <td>htmlheadtitle::::&amp;gt; FREE LIFETIME VIP ACCEES...</td>\n",
       "      <td>campbell-l</td>\n",
       "      <td>0.109740</td>\n",
       "      <td>...</td>\n",
       "      <td>0</td>\n",
       "      <td>0</td>\n",
       "      <td>0</td>\n",
       "      <td>0</td>\n",
       "      <td>0</td>\n",
       "      <td>62174</td>\n",
       "      <td>NaN</td>\n",
       "      <td>jody421@hotmail.com</td>\n",
       "      <td>undisclosed.recipients@mailman.enron.com</td>\n",
       "      <td>3524</td>\n",
       "    </tr>\n",
       "  </tbody>\n",
       "</table>\n",
       "<p>5 rows × 47 columns</p>\n",
       "</div>"
      ],
      "text/plain": [
       "        indice                Date                     From_ancien  \\\n",
       "473779     NaN 2004-02-04 01:45:35  1800flowers.238953685@s2u2.com   \n",
       "473780     NaN 2004-02-04 01:45:38  1800flowers.224433405@s2u2.com   \n",
       "473781   34749 2004-02-04 02:17:46  1800flowers.243967005@s2u2.com   \n",
       "473782   20106 2020-12-24 23:36:06             jody421@hotmail.com   \n",
       "473783    2889 2020-12-29 20:53:46             jody421@hotmail.com   \n",
       "\n",
       "                                       To_ancien    Cc X-bcc  \\\n",
       "473779                           ebass@enron.com  NoCc   NaN   \n",
       "473780                           ebass@enron.com  NoCc   NaN   \n",
       "473781                         scorman@enron.com  NoCc   NaN   \n",
       "473782  undisclosed.recipients@mailman.enron.com  NoCc   NaN   \n",
       "473783  undisclosed.recipients@mailman.enron.com  NoCc   NaN   \n",
       "\n",
       "                                                  Subject  \\\n",
       "473779  Treat yourself to savings in our Post-Holiday ...   \n",
       "473780  SAVE $20 while sending gifts to everyone on yo...   \n",
       "473781   Gifts to make your January celebrations special!   \n",
       "473782  Tired Of Searching For Love In All The Wrong P...   \n",
       "473783                            Jennifer Lopez - Nudity   \n",
       "\n",
       "                                                     Mail        user  \\\n",
       "473779  If you are seeing this message, your email cli...      bass-e   \n",
       "473780  If you are seeing this message, your email cli...      bass-e   \n",
       "473781   http://www.1800flowers.com/flowers/x_e.asp?r=...    corman-s   \n",
       "473782  htmlheadMETA HTTP-EQUIV=3D\"Expires\" CONTENT=3D...  campbell-l   \n",
       "473783  htmlheadtitle::::&gt; FREE LIFETIME VIP ACCEES...  campbell-l   \n",
       "\n",
       "        polarity  ...  Start Date  Proposed agenda TRANSSTATUS  \\\n",
       "473779  0.333333  ...           0                0           0   \n",
       "473780  0.333333  ...           0                0           0   \n",
       "473781  0.383535  ...           0                0           0   \n",
       "473782 -1.000000  ...           0                0           0   \n",
       "473783  0.109740  ...           0                0           0   \n",
       "\n",
       "        CALENDAR ENRTY  HourAhead  Indice_ancien  importance  \\\n",
       "473779               0          0          62170         NaN   \n",
       "473780               0          0          62171         NaN   \n",
       "473781               0          0          62172         NaN   \n",
       "473782               0          0          62173         NaN   \n",
       "473783               0          0          62174         NaN   \n",
       "\n",
       "                                  From  \\\n",
       "473779  1800flowers.238953685@s2u2.com   \n",
       "473780  1800flowers.224433405@s2u2.com   \n",
       "473781  1800flowers.243967005@s2u2.com   \n",
       "473782             jody421@hotmail.com   \n",
       "473783             jody421@hotmail.com   \n",
       "\n",
       "                                              To  From_fin  \n",
       "473779                           ebass@enron.com      7711  \n",
       "473780                           ebass@enron.com      1763  \n",
       "473781                         scorman@enron.com     18799  \n",
       "473782  undisclosed.recipients@mailman.enron.com      3524  \n",
       "473783  undisclosed.recipients@mailman.enron.com      3524  \n",
       "\n",
       "[5 rows x 47 columns]"
      ]
     },
     "execution_count": 92,
     "metadata": {},
     "output_type": "execute_result"
    }
   ],
   "source": [
    "df3.tail()"
   ]
  },
  {
   "cell_type": "code",
   "execution_count": 93,
   "metadata": {},
   "outputs": [],
   "source": [
    "df3['To_fin']=To_fin"
   ]
  },
  {
   "cell_type": "code",
   "execution_count": 2,
   "metadata": {},
   "outputs": [],
   "source": [
    "df3.to_csv('dataset_fin_1.csv',index=False)"
   ]
  },
  {
   "cell_type": "code",
   "execution_count": 8,
   "metadata": {},
   "outputs": [],
   "source": [
    "louvain_weight=pd.read_csv('louvain_weight.csv')\n",
    "page_rank_emails_weight=pd.read_csv('page_rank_emails_weight.csv')"
   ]
  },
  {
   "cell_type": "code",
   "execution_count": 9,
   "metadata": {},
   "outputs": [
    {
     "data": {
      "text/html": [
       "<div>\n",
       "<style scoped>\n",
       "    .dataframe tbody tr th:only-of-type {\n",
       "        vertical-align: middle;\n",
       "    }\n",
       "\n",
       "    .dataframe tbody tr th {\n",
       "        vertical-align: top;\n",
       "    }\n",
       "\n",
       "    .dataframe thead th {\n",
       "        text-align: right;\n",
       "    }\n",
       "</style>\n",
       "<table border=\"1\" class=\"dataframe\">\n",
       "  <thead>\n",
       "    <tr style=\"text-align: right;\">\n",
       "      <th></th>\n",
       "      <th>page</th>\n",
       "      <th>score</th>\n",
       "    </tr>\n",
       "  </thead>\n",
       "  <tbody>\n",
       "    <tr>\n",
       "      <td>0</td>\n",
       "      <td>ebass@enron.com</td>\n",
       "      <td>34.014526</td>\n",
       "    </tr>\n",
       "    <tr>\n",
       "      <td>1</td>\n",
       "      <td>jeff.dasovich@enron.com</td>\n",
       "      <td>30.985772</td>\n",
       "    </tr>\n",
       "    <tr>\n",
       "      <td>2</td>\n",
       "      <td>sally.beck@enron.com</td>\n",
       "      <td>28.203034</td>\n",
       "    </tr>\n",
       "    <tr>\n",
       "      <td>3</td>\n",
       "      <td>don.baughman@enron.com</td>\n",
       "      <td>23.498447</td>\n",
       "    </tr>\n",
       "    <tr>\n",
       "      <td>4</td>\n",
       "      <td>michelle.cash@enron.com</td>\n",
       "      <td>15.524321</td>\n",
       "    </tr>\n",
       "  </tbody>\n",
       "</table>\n",
       "</div>"
      ],
      "text/plain": [
       "                      page      score\n",
       "0          ebass@enron.com  34.014526\n",
       "1  jeff.dasovich@enron.com  30.985772\n",
       "2     sally.beck@enron.com  28.203034\n",
       "3   don.baughman@enron.com  23.498447\n",
       "4  michelle.cash@enron.com  15.524321"
      ]
     },
     "execution_count": 9,
     "metadata": {},
     "output_type": "execute_result"
    }
   ],
   "source": [
    "page_rank_emails_weight.head()"
   ]
  },
  {
   "cell_type": "code",
   "execution_count": 10,
   "metadata": {},
   "outputs": [
    {
     "ename": "NameError",
     "evalue": "name 'df_from_to' is not defined",
     "output_type": "error",
     "traceback": [
      "\u001b[1;31m---------------------------------------------------------------------------\u001b[0m",
      "\u001b[1;31mNameError\u001b[0m                                 Traceback (most recent call last)",
      "\u001b[1;32m<ipython-input-10-ce99d21a0fbe>\u001b[0m in \u001b[0;36m<module>\u001b[1;34m\u001b[0m\n\u001b[1;32m----> 1\u001b[1;33m \u001b[0memails_new\u001b[0m\u001b[1;33m=\u001b[0m\u001b[0memails_d\u001b[0m\u001b[1;33m.\u001b[0m\u001b[0mmerge\u001b[0m\u001b[1;33m(\u001b[0m\u001b[0mdf_from_to\u001b[0m\u001b[1;33m,\u001b[0m \u001b[0mhow\u001b[0m\u001b[1;33m=\u001b[0m\u001b[1;34m'inner'\u001b[0m\u001b[1;33m,\u001b[0m \u001b[0mleft_on\u001b[0m\u001b[1;33m=\u001b[0m\u001b[1;33m[\u001b[0m\u001b[1;34m\"From\"\u001b[0m\u001b[1;33m,\u001b[0m \u001b[1;34m\"To\"\u001b[0m\u001b[1;33m]\u001b[0m\u001b[1;33m,\u001b[0m \u001b[0mright_on\u001b[0m\u001b[1;33m=\u001b[0m\u001b[1;33m[\u001b[0m\u001b[1;34m\"From\"\u001b[0m\u001b[1;33m,\u001b[0m\u001b[1;34m\"To\"\u001b[0m\u001b[1;33m]\u001b[0m\u001b[1;33m)\u001b[0m\u001b[1;33m\u001b[0m\u001b[1;33m\u001b[0m\u001b[0m\n\u001b[0m\u001b[0;32m      2\u001b[0m \u001b[0memails_new\u001b[0m\u001b[1;33m=\u001b[0m\u001b[0memails_new\u001b[0m\u001b[1;33m.\u001b[0m\u001b[0mmerge\u001b[0m\u001b[1;33m(\u001b[0m\u001b[0mpage_rank_emails_weight\u001b[0m\u001b[1;33m,\u001b[0m \u001b[0mhow\u001b[0m\u001b[1;33m=\u001b[0m\u001b[1;34m'inner'\u001b[0m\u001b[1;33m,\u001b[0m \u001b[0mleft_on\u001b[0m\u001b[1;33m=\u001b[0m\u001b[1;33m[\u001b[0m\u001b[1;34m\"From\"\u001b[0m\u001b[1;33m]\u001b[0m\u001b[1;33m,\u001b[0m \u001b[0mright_on\u001b[0m\u001b[1;33m=\u001b[0m\u001b[1;33m[\u001b[0m\u001b[1;34m\"page\"\u001b[0m\u001b[1;33m]\u001b[0m\u001b[1;33m)\u001b[0m\u001b[1;33m\u001b[0m\u001b[1;33m\u001b[0m\u001b[0m\n\u001b[0;32m      3\u001b[0m \u001b[0memails_new\u001b[0m\u001b[1;33m=\u001b[0m\u001b[0memails_new\u001b[0m\u001b[1;33m.\u001b[0m\u001b[0mmerge\u001b[0m\u001b[1;33m(\u001b[0m\u001b[0mlouvain_weight\u001b[0m\u001b[1;33m,\u001b[0m \u001b[0mhow\u001b[0m\u001b[1;33m=\u001b[0m\u001b[1;34m'inner'\u001b[0m\u001b[1;33m,\u001b[0m \u001b[0mleft_on\u001b[0m\u001b[1;33m=\u001b[0m\u001b[1;33m[\u001b[0m\u001b[1;34m\"From\"\u001b[0m\u001b[1;33m]\u001b[0m\u001b[1;33m,\u001b[0m \u001b[0mright_on\u001b[0m\u001b[1;33m=\u001b[0m\u001b[1;33m[\u001b[0m\u001b[1;34m\"name\"\u001b[0m\u001b[1;33m]\u001b[0m\u001b[1;33m)\u001b[0m\u001b[1;33m\u001b[0m\u001b[1;33m\u001b[0m\u001b[0m\n",
      "\u001b[1;31mNameError\u001b[0m: name 'df_from_to' is not defined"
     ]
    }
   ],
   "source": [
    "emails_new=emails_d.merge(df_from_to, how='inner', left_on=[\"From\", \"To\"], right_on=[\"From\",\"To\"])\n",
    "emails_new=emails_new.merge(page_rank_emails_weight, how='inner', left_on=[\"From\"], right_on=[\"page\"])\n",
    "emails_new=emails_new.merge(louvain_weight, how='inner', left_on=[\"From\"], right_on=[\"name\"])"
   ]
  },
  {
   "cell_type": "code",
   "execution_count": 103,
   "metadata": {},
   "outputs": [],
   "source": [
    "def  clean_text_dataset(df, text_field):\n",
    "    df[text_field] = df[text_field].str.lower()\n",
    "    df[text_field] = df[text_field].apply(lambda elem: re.sub(\"\\?{2,}\", \"\", elem))  \n",
    "    df[text_field] = df[text_field].apply(lambda elem: re.sub(\"\\*{2,}\", \"\", elem))  \n",
    "    df[text_field] = df[text_field].apply(lambda elem: re.sub(\"#{2,}\", \"\", elem))  \n",
    "\n",
    "    return df\n",
    "emails_new = clean_text_dataset(emails_new, \"Mail\")\n"
   ]
  },
  {
   "cell_type": "code",
   "execution_count": 104,
   "metadata": {},
   "outputs": [],
   "source": [
    "emails_new[\"Subject\"] = emails_new[\"Subject\"].str.lower()"
   ]
  },
  {
   "cell_type": "code",
   "execution_count": 105,
   "metadata": {},
   "outputs": [],
   "source": [
    "#Liste mots clés dans subject from tfidf \n",
    "liste_mots_cles_features=['thank','dsl','hpl','newsletter','call','update','california','codesite','schedule','weekend','presentation','lunch',\\\n",
    " 'dinner','issue','payment','holiday','vacation','happy','meter'\\\n",
    " 'mention','request','review','information','employee','power',\\\n",
    " 'contract','announcement','test','agreement','news','report','action','staff','revise','draft'\\\n",
    "'conference','resume','daily','weekly','need',' hi','option','confirmation','credit','number',\\\n",
    " 'party','interview','ferc','phone','congratulation','cpuc','please','urgent',\\\n",
    " 'strategy','reminder','policy','budget','address','program','free','customer','allocation','price','committee','fyi','game']"
   ]
  },
  {
   "cell_type": "code",
   "execution_count": 106,
   "metadata": {},
   "outputs": [],
   "source": [
    "emails_new['Date'] = pd.to_datetime(emails_new['Date'])"
   ]
  },
  {
   "cell_type": "code",
   "execution_count": 107,
   "metadata": {},
   "outputs": [],
   "source": [
    "##Date, heure et jour de la semaine \n",
    "emails_new['Month'] = emails_new['Date'].dt.month\n",
    "emails_new['Weekday'] = [d.weekday() for d in emails_new['Date']]\n",
    "emails_new['Time'] = [d.hour for d in emails_new['Date']]\n",
    "##Si question\n",
    "emails_new['si_question'] = emails_new.Mail.str.count('\\?')\n",
    "##Si point d'exclamation\n",
    "emails_new['si_exclamation'] = emails_new.Mail.str.count('!')\n",
    "#Si dans le message y a un forwd \n",
    "emails_new['nombre_reponse_from'] = emails_new.Mail.str.count('from:')\n",
    "#Si dans le message y a une réponse et combien de fois  \n",
    "emails_new['nombre_reponse_re'] = emails_new.Mail.str.count('re:')\n",
    "#Si le message est un forward et combien de fois  \n",
    "emails_new['nombre_reponse_fwd'] = emails_new.Mail.str.contains('forwarded|fwd')\n",
    "#Si dans le subject calendar \n",
    "emails_new['meeting']=emails_new['Subject'].str.contains('meeting|mtg')\n",
    "#out of office \n",
    "emails_new['out_of_office']=emails_new['Subject'].str.contains('out of office')\n",
    "#Si dans le subject calendar \n",
    "emails_new['meeting_mail']=emails_new['Mail'].str.contains('meeting|mtg|central time')\n",
    "#Si dans le mail Newsletter \n",
    "emails_new['newsletter_mail']=emails_new['Mail'].str.contains('newsletter')\n",
    "#Si image dans corps du texte\n",
    "emails_new['si_image_corpstext'] = emails_new.Mail.str.count('image|img')\n",
    "#Si image dans corps du texte\n",
    "emails_new['si_http_corpstext'] = emails_new.Mail.str.count('http')\n",
    "#Si image en jpg ou png \n",
    "emails_new['si_image_jpgpng'] = emails_new.Mail.str.contains('\\.jpg|\\.png')\n",
    "#Si doc attaché \n",
    "emails_new['si_doc'] = emails_new.Mail.str.contains('\\.doc|\\.pdf|\\.xls|\\.pp|\\.dot|\\.wpd')\n",
    "#Si doc ou image attaché \n",
    "emails_new['si_doc_ou_image'] = emails_new.Mail.str.contains('\\.jpg|\\.png|\\.doc|\\.pdf|\\.xls|\\.pp|\\.dot|\\.wpd')\n",
    "#Si dans le mail Please keep this email invoice\n",
    "emails_new['keep'] = emails_new.Mail.str.contains('please keep this email invoice')\n",
    "#Si dans le mail Please respond \n",
    "emails_new['please_respond'] = emails_new.Mail.str.contains('please respond')\n",
    "#Si dans le mail please_record\n",
    "emails_new['please_record'] = emails_new.Mail.str.contains('please read and retain this e-mail for your records')\n",
    "#Si dans le mail receiving_because\n",
    "emails_new['receiving_because'] = emails_new.Mail.str.contains('received this message because|receiving this message as')\n",
    "#Si dans le mail business plan\n",
    "emails_new['business_Plan'] = emails_new.Mail.str.contains('business plan')\n",
    "#Si dans le mail Out of office\n",
    "emails_new['stock_price'] = emails_new.Mail.str.contains('stock price')\n",
    "#Si dans le mail sport\n",
    "emails_new['sport'] = emails_new.Mail.str.contains('sport')\n",
    "#Si dans le mail property_eron\n",
    "emails_new['property_eron'] = emails_new.Mail.str.contains('this e-mail is the property of enron')\n",
    "#Si dans le mail energy\n",
    "emails_new['energy'] = emails_new.Mail.str.contains('energy')\n",
    "#Si dans le mail deal\n",
    "emails_new['deal'] = emails_new.Mail.str.contains('deal')\n",
    "#Si dans le mail expense\n",
    "emails_new['expense'] = emails_new.Mail.str.contains('expense')\n",
    "#Si dans le mail attach\n",
    "emails_new['attached'] = emails_new.Mail.str.contains('attach')\n",
    "#Si dans le mail order\n",
    "emails_new['order'] = emails_new.Mail.str.contains('order')\n",
    "#Si dans le mail outage\n",
    "emails_new['outage'] = emails_new.Mail.str.contains('outage')\n",
    "#Si dans le mail electricity\n",
    "emails_new['electricity'] = emails_new.Mail.str.contains('electricity')\n",
    "#Si dans le mail energy\n",
    "emails_new['gas'] = emails_new.Mail.str.contains('gas')\n",
    "#Si formule de politesse \n",
    "emails_new['best_regards'] = emails_new.Mail.str.contains('best regards')\n",
    "emails_new['kind_regards'] = emails_new.Mail.str.contains('kind regards')\n",
    "emails_new['sincerely_yours'] = emails_new.Mail.str.contains('sincerely yours')\n",
    "emails_new['please_mail'] = emails_new.Mail.str.contains('please')\n",
    "emails_new['dear_smtg'] = emails_new['Mail'].str.contains('dear+( mrs| mr| ms)')\n",
    "emails_new['lol'] = emails_new.Mail.str.contains(' lol ')\n",
    "emails_new['cordially'] = emails_new.Mail.str.contains('cordially')\n",
    "emails_new['have_a_nice'] = emails_new.Mail.str.contains('have a nice')\n",
    "emails_new['hello'] = emails_new.Mail.str.contains('hello| hi')\n",
    "emails_new['how_do_u_do'] = emails_new.Mail.str.contains('how do you do|how you doing')\n",
    "emails_new['best_wishes'] = emails_new.Mail.str.contains('best wishes')\n",
    "emails_new['happy_new_year'] = emails_new.Mail.str.contains('happy new year')\n",
    "emails_new['good_smtg'] = emails_new.Mail.str.contains('good morning|good afternoon')\n",
    "emails_new['sorry'] = emails_new.Mail.str.contains('sorry')\n",
    "emails_new['love_from'] = emails_new.Mail.str.contains('love from')\n",
    "emails_new['please_let_me_know'] = emails_new.Mail.str.contains('please_let_me_know')\n",
    "emails_new['thanks_mail'] = emails_new.Mail.str.contains('thank')\n",
    "\n",
    "#Si dans liste mail automatique  \n",
    "liste_email_automatique=['enron.announcements@enron.com','no.address@enron.com','40enron@enron.com','outlook.team@enron.com','announcements.enron@enron.com','exchange.info@nymex.com','office.chairman@enron.com','noreply@ccomad3.uu.comissioner.com','perfmgmt@enron.com','owner-nyiso-tech_exchange@lists.thebiz.net','feedback@intcx.com','owner-eveningmba@haas.berkeley.edu','exchange.administrator@enrom.com','public.relations@enron.com','issuealert@enron.com','nytdirect@nytimes.com','ecenter@williams.com','pmadpr@worldnet.att.net','crcommunications@caiso.com','navigator@nisource.com','marketing@nymex.com','info@pma.conference.com','administration.enron@enron.com']\n",
    "emails_new['email_dans_liste']=emails_new.From.isin(liste_email_automatique)\n",
    "\n",
    "#longueur du mail \n",
    "emails_new['longueur_mail']=emails_new.Mail.str.len()\n",
    "\n",
    "#Mots clés dans subject \n",
    "for elem in liste_mots_cles_features:\n",
    "    emails_new[elem]=emails_new.Subject.str.contains(elem)"
   ]
  },
  {
   "cell_type": "code",
   "execution_count": 108,
   "metadata": {},
   "outputs": [
    {
     "data": {
      "text/plain": [
       "Index(['indice', 'Date', 'From_ancien', 'To_ancien', 'Cc', 'X-bcc', 'Subject',\n",
       "       'Mail', 'user', 'polarity',\n",
       "       ...\n",
       "       'budget', 'address', 'program', 'free', 'customer', 'allocation',\n",
       "       'price', 'committee', 'fyi', 'game'],\n",
       "      dtype='object', length=169)"
      ]
     },
     "execution_count": 108,
     "metadata": {},
     "output_type": "execute_result"
    }
   ],
   "source": [
    "emails_new.columns"
   ]
  },
  {
   "cell_type": "code",
   "execution_count": 109,
   "metadata": {},
   "outputs": [],
   "source": [
    "emails_new.importance.replace('No', 0,inplace=True)\n",
    "emails_new.importance.replace('Yes', 1,inplace=True)\n",
    "emails_new.importance.replace('Skip', float('NaN'),inplace=True)"
   ]
  },
  {
   "cell_type": "code",
   "execution_count": null,
   "metadata": {},
   "outputs": [],
   "source": [
    "emails_new.replace(False, 0,inplace=True)\n",
    "emails_new.replace(True, 1,inplace=True)"
   ]
  },
  {
   "cell_type": "code",
   "execution_count": 2,
   "metadata": {},
   "outputs": [],
   "source": [
    "#emails_new.to_csv('dataset_final.csv',index=False)\n",
    "emails_new=pd.read_csv('dataset_final.csv')"
   ]
  },
  {
   "cell_type": "code",
   "execution_count": 4,
   "metadata": {},
   "outputs": [],
   "source": [
    "emails_labelise=emails_new.copy()"
   ]
  },
  {
   "cell_type": "code",
   "execution_count": 5,
   "metadata": {},
   "outputs": [],
   "source": [
    "emails_labelise=emails_new[(emails_new.Thread!=1) & (emails_new.email_automatique_supprime_from!=1) & \\\n",
    "                   (emails_new.email_automatique_supprime_to!=1) & (emails_new['Start Date']!=1) & \\\n",
    "                   (emails_new['Proposed agenda']!=1) & (emails_new['TRANSSTATUS']!=1) & \\\n",
    "                   (emails_new['CALENDAR ENRTY']!=1) & (emails_new['HourAhead']!=1) &\\\n",
    "                   (emails_new['Autohedge']!=1) & (emails_new['AutoReply']!=1) & \\\n",
    "                   (emails_new['doctype_html']!=1) & (emails_new['Auto Reply']!=1) & \\\n",
    "                   (emails_new['From_newsletter']!=1) & (emails_new['FREE']!=1) & \\\n",
    "                   (emails_new['newsletter_suppressed']!=1) & (emails_new['enron_mentions']!=1) & \\\n",
    "                   (emails_new['unsubscribe']!=1)]"
   ]
  },
  {
   "cell_type": "code",
   "execution_count": 6,
   "metadata": {},
   "outputs": [],
   "source": [
    "emails_labelise.drop(['Subject_not_clean','Mail_not_clean','To_ancien','From_ancien','communities','Subject','Mail','Date','From','To','Thread','indice','Cc','X-bcc','Indice_ancien','user','Communication','page','name','email_automatique_supprime_from',\\\n",
    "                     'email_automatique_supprime_to','Start Date','Proposed agenda','TRANSSTATUS','CALENDAR ENRTY','HourAhead','Autohedge',\\\n",
    "                     'AutoReply','doctype_html','Auto Reply','From_newsletter','FREE','newsletter_suppressed','enron_mentions','unsubscribe'], axis=1,inplace=True)"
   ]
  },
  {
   "cell_type": "code",
   "execution_count": 7,
   "metadata": {},
   "outputs": [],
   "source": [
    "emails_labelise=emails_labelise[(emails_labelise.importance==0) | (emails_labelise.importance==1)]"
   ]
  },
  {
   "cell_type": "code",
   "execution_count": 8,
   "metadata": {},
   "outputs": [
    {
     "data": {
      "text/plain": [
       "25135"
      ]
     },
     "execution_count": 8,
     "metadata": {},
     "output_type": "execute_result"
    }
   ],
   "source": [
    "len(emails_labelise)"
   ]
  },
  {
   "cell_type": "code",
   "execution_count": 9,
   "metadata": {},
   "outputs": [],
   "source": [
    "X=emails_labelise.drop(['importance'],axis=1)"
   ]
  },
  {
   "cell_type": "code",
   "execution_count": 10,
   "metadata": {},
   "outputs": [],
   "source": [
    "y=emails_labelise.importance"
   ]
  },
  {
   "cell_type": "code",
   "execution_count": 11,
   "metadata": {},
   "outputs": [],
   "source": [
    "X_train, X_test, y_train, y_test = train_test_split(X, y, test_size=0.33, random_state=42)"
   ]
  },
  {
   "cell_type": "code",
   "execution_count": 13,
   "metadata": {
    "scrolled": true
   },
   "outputs": [
    {
     "data": {
      "text/plain": [
       "array(['polarity', 'word_count_Mail', 'count_To', 'PERSON', 'ORG',\n",
       "       'Date_2', 'if_time_mention', 'GPE', 'EVENT', 'MONEY', 'FAC',\n",
       "       'WORK_OF_ART', 'newsletter', 'From_fin', 'To_fin', 'nb_emails',\n",
       "       'score', 'community', 'Month', 'Weekday', 'Time', 'si_question',\n",
       "       'si_exclamation', 'nombre_reponse_from', 'nombre_reponse_re',\n",
       "       'nombre_reponse_fwd', 'meeting', 'out_of_office', 'meeting_mail',\n",
       "       'newsletter_mail', 'si_image_corpstext', 'si_http_corpstext',\n",
       "       'si_image_jpgpng', 'si_doc', 'si_doc_ou_image', 'keep',\n",
       "       'please_respond', 'please_record', 'receiving_because',\n",
       "       'business_Plan', 'stock_price', 'sport', 'property_eron', 'energy',\n",
       "       'deal', 'expense', 'attached', 'order', 'outage', 'electricity',\n",
       "       'gas', 'best_regards', 'kind_regards', 'sincerely_yours',\n",
       "       'please_mail', 'dear_smtg', 'lol', 'cordially', 'have_a_nice',\n",
       "       'hello', 'how_do_u_do', 'best_wishes', 'happy_new_year',\n",
       "       'good_smtg', 'sorry', 'love_from', 'please_let_me_know',\n",
       "       'thanks_mail', 'email_dans_liste', 'longueur_mail', 'thank', 'dsl',\n",
       "       'hpl', 'call', 'update', 'california', 'codesite', 'schedule',\n",
       "       'weekend', 'presentation', 'lunch', 'dinner', 'issue', 'payment',\n",
       "       'holiday', 'vacation', 'happy', 'metermention', 'request',\n",
       "       'review', 'information', 'employee', 'power', 'contract',\n",
       "       'announcement', 'test', 'agreement', 'news', 'report', 'action',\n",
       "       'staff', 'revise', 'draftconference', 'resume', 'daily', 'weekly',\n",
       "       'need', ' hi', 'option', 'confirmation', 'credit', 'number',\n",
       "       'party', 'interview', 'ferc', 'phone', 'congratulation', 'cpuc',\n",
       "       'please', 'urgent', 'strategy', 'reminder', 'policy', 'budget',\n",
       "       'address', 'program', 'free', 'customer', 'allocation', 'price',\n",
       "       'committee', 'fyi', 'game'], dtype=object)"
      ]
     },
     "execution_count": 13,
     "metadata": {},
     "output_type": "execute_result"
    }
   ],
   "source": [
    "X_train.columns.values"
   ]
  },
  {
   "cell_type": "code",
   "execution_count": 12,
   "metadata": {},
   "outputs": [
    {
     "data": {
      "text/plain": [
       "(16840, 8295)"
      ]
     },
     "execution_count": 12,
     "metadata": {},
     "output_type": "execute_result"
    }
   ],
   "source": [
    "len(X_train),len(X_test)"
   ]
  },
  {
   "cell_type": "code",
   "execution_count": 122,
   "metadata": {},
   "outputs": [],
   "source": [
    "#### Sélection de variables "
   ]
  },
  {
   "cell_type": "code",
   "execution_count": 348,
   "metadata": {},
   "outputs": [
    {
     "data": {
      "text/plain": [
       "132"
      ]
     },
     "execution_count": 348,
     "metadata": {},
     "output_type": "execute_result"
    }
   ],
   "source": [
    "liste_var=X_train.columns\n",
    "len(liste_var)"
   ]
  },
  {
   "cell_type": "code",
   "execution_count": 349,
   "metadata": {},
   "outputs": [
    {
     "name": "stdout",
     "output_type": "stream",
     "text": [
      "Optimal number of features:  98\n"
     ]
    }
   ],
   "source": [
    "selector = RFECV(LogisticRegression(), step=1, cv=5,scoring=\"accuracy\")\n",
    "selector = selector.fit(X, y)\n",
    "print(\"Optimal number of features: \",selector.n_features_)\n"
   ]
  },
  {
   "cell_type": "code",
   "execution_count": 350,
   "metadata": {},
   "outputs": [
    {
     "name": "stdout",
     "output_type": "stream",
     "text": [
      "Selected features:  ['polarity', 'EVENT', 'FAC', 'newsletter', 'si_exclamation', 'nombre_reponse_from', 'nombre_reponse_re', 'nombre_reponse_fwd', 'meeting', 'out_of_office', 'meeting_mail', 'newsletter_mail', 'si_image_corpstext', 'si_http_corpstext', 'si_image_jpgpng', 'si_doc', 'keep', 'please_respond', 'please_record', 'receiving_because', 'stock_price', 'sport', 'property_eron', 'energy', 'deal', 'expense', 'attached', 'order', 'outage', 'electricity', 'gas', 'best_regards', 'kind_regards', 'sincerely_yours', 'cordially', 'have_a_nice', 'hello', 'best_wishes', 'happy_new_year', 'good_smtg', 'sorry', 'thanks_mail', 'email_dans_liste', 'thank', 'dsl', 'hpl', 'california', 'schedule', 'weekend', 'presentation', 'lunch', 'dinner', 'issue', 'payment', 'holiday', 'vacation', 'happy', 'request', 'review', 'information', 'employee', 'contract', 'agreement', 'news', 'report', 'action', 'staff', 'revise', 'resume', 'daily', 'weekly', 'need', ' hi', 'option', 'confirmation', 'credit', 'number', 'party', 'interview', 'ferc', 'phone', 'congratulation', 'cpuc', 'please', 'urgent', 'strategy', 'reminder', 'policy', 'budget', 'address', 'program', 'free', 'customer', 'allocation', 'price', 'committee', 'fyi', 'game']\n"
     ]
    }
   ],
   "source": [
    "print(\"Selected features: \",[k for k,v in zip(liste_var,list(selector.support_)) if v==True])"
   ]
  },
  {
   "cell_type": "markdown",
   "metadata": {},
   "source": [
    "### Regression logistique "
   ]
  },
  {
   "cell_type": "code",
   "execution_count": 131,
   "metadata": {},
   "outputs": [],
   "source": [
    "logistic_regression_model = LogisticRegression()\n",
    "logistic_regression_model.fit(X_train,y_train)\n",
    "y_pred_logistic_regression_model = logistic_regression_model.predict(X_test)"
   ]
  },
  {
   "cell_type": "code",
   "execution_count": 132,
   "metadata": {},
   "outputs": [
    {
     "name": "stdout",
     "output_type": "stream",
     "text": [
      "              precision    recall  f1-score   support\n",
      "\n",
      "         0.0       0.77      0.84      0.81      5271\n",
      "         1.0       0.68      0.57      0.62      3024\n",
      "\n",
      "    accuracy                           0.74      8295\n",
      "   macro avg       0.72      0.71      0.71      8295\n",
      "weighted avg       0.74      0.74      0.74      8295\n",
      "\n"
     ]
    }
   ],
   "source": [
    "print(classification_report(y_test,y_pred_logistic_regression_model))"
   ]
  },
  {
   "cell_type": "code",
   "execution_count": 133,
   "metadata": {},
   "outputs": [],
   "source": [
    "#Proba d'appartenir à la classe \n",
    "y_pred_proba_logistic_regression_model = logistic_regression_model.predict_proba(X_test)[:, 1]"
   ]
  },
  {
   "cell_type": "code",
   "execution_count": 134,
   "metadata": {},
   "outputs": [
    {
     "data": {
      "text/plain": [
       "array([0.3547055 , 0.64017501, 0.48853435, ..., 0.44592929, 0.12315471,\n",
       "       0.55495402])"
      ]
     },
     "execution_count": 134,
     "metadata": {},
     "output_type": "execute_result"
    }
   ],
   "source": [
    "y_pred_proba_logistic_regression_model"
   ]
  },
  {
   "cell_type": "code",
   "execution_count": 135,
   "metadata": {},
   "outputs": [
    {
     "name": "stdout",
     "output_type": "stream",
     "text": [
      "Results:\n",
      "LogisticRegression accuracy is 0.743\n",
      "LogisticRegression log_loss is 0.510\n",
      "LogisticRegression auc is 0.809\n"
     ]
    }
   ],
   "source": [
    "[faux_positive_rate, true_positive_rate, threshold] = roc_curve(y_test, y_pred_proba_logistic_regression_model)\n",
    "print('Results:')\n",
    "print(logistic_regression_model.__class__.__name__+\" accuracy is %2.3f\" % accuracy_score(y_test, y_pred_logistic_regression_model))\n",
    "print(logistic_regression_model.__class__.__name__+\" log_loss is %2.3f\" % log_loss(y_test, y_pred_proba_logistic_regression_model))\n",
    "print(logistic_regression_model.__class__.__name__+\" auc is %2.3f\" % auc(faux_positive_rate, true_positive_rate))"
   ]
  },
  {
   "cell_type": "code",
   "execution_count": 136,
   "metadata": {},
   "outputs": [
    {
     "name": "stdout",
     "output_type": "stream",
     "text": [
      "[[4447  824]\n",
      " [1305 1719]]\n"
     ]
    },
    {
     "data": {
      "image/png": "[encoded data removed]",
      "text/plain": [
       "<Figure size 1080x432 with 2 Axes>"
      ]
     },
     "metadata": {
      "needs_background": "light"
     },
     "output_type": "display_data"
    }
   ],
   "source": [
    "#Matrice de confusion\n",
    "confusion_matrice=confusion_matrix(y_test, y_pred_logistic_regression_model)\n",
    "sns.heatmap(confusion_matrice, annot=True)\n",
    "plt.xlim(-0.05, len(np.unique(y))-0.05)\n",
    "plt.ylim(len(np.unique(y))-0.05, -0.05)\n",
    "print(confusion_matrice)"
   ]
  },
  {
   "cell_type": "markdown",
   "metadata": {},
   "source": [
    "### Random forest "
   ]
  },
  {
   "cell_type": "code",
   "execution_count": 138,
   "metadata": {},
   "outputs": [],
   "source": [
    "#Premier test \n",
    "classif = RandomForestClassifier(n_estimators=500, random_state=0,oob_score = True) \n",
    "random_forest_model=classif.fit(X_train, y_train)  \n",
    "y_pred_random_forest_model = random_forest_model.predict(X_test)  "
   ]
  },
  {
   "cell_type": "code",
   "execution_count": 139,
   "metadata": {},
   "outputs": [
    {
     "name": "stdout",
     "output_type": "stream",
     "text": [
      "[[5212   59]\n",
      " [ 146 2878]]\n"
     ]
    },
    {
     "data": {
      "text/plain": [
       "(1.95, -0.05)"
      ]
     },
     "execution_count": 139,
     "metadata": {},
     "output_type": "execute_result"
    },
    {
     "data": {
      "image/png": "[encoded data removed]",
      "text/plain": [
       "<Figure size 1080x432 with 2 Axes>"
      ]
     },
     "metadata": {
      "needs_background": "light"
     },
     "output_type": "display_data"
    }
   ],
   "source": [
    "confusion_matrice=confusion_matrix(y_test, y_pred_random_forest_model)\n",
    "print(confusion_matrice)\n",
    "sns.heatmap(confusion_matrice, annot=True)\n",
    "plt.xlim(-0.05, len(np.unique(y))-0.05)\n",
    "plt.ylim(len(np.unique(y))-0.05, -0.05)"
   ]
  },
  {
   "cell_type": "code",
   "execution_count": 140,
   "metadata": {},
   "outputs": [
    {
     "data": {
      "text/plain": [
       "1.0"
      ]
     },
     "execution_count": 140,
     "metadata": {},
     "output_type": "execute_result"
    }
   ],
   "source": [
    "accuracy_score(y_train, random_forest_model.predict(X_train))"
   ]
  },
  {
   "cell_type": "code",
   "execution_count": 141,
   "metadata": {},
   "outputs": [
    {
     "data": {
      "text/plain": [
       "0.9752863170584689"
      ]
     },
     "execution_count": 141,
     "metadata": {},
     "output_type": "execute_result"
    }
   ],
   "source": [
    "accuracy_score(y_test, y_pred_random_forest_model)"
   ]
  },
  {
   "cell_type": "code",
   "execution_count": 142,
   "metadata": {},
   "outputs": [
    {
     "data": {
      "text/plain": [
       "array([[0.626, 0.374],\n",
       "       [0.   , 1.   ],\n",
       "       [0.996, 0.004],\n",
       "       ...,\n",
       "       [0.904, 0.096],\n",
       "       [0.998, 0.002],\n",
       "       [0.   , 1.   ]])"
      ]
     },
     "execution_count": 142,
     "metadata": {},
     "output_type": "execute_result"
    }
   ],
   "source": [
    "#Proba d'appartenir à la classe \n",
    "y_pred_proba_random_forest_model=classif.predict_proba(X_test)\n",
    "y_pred_proba_random_forest_model"
   ]
  },
  {
   "cell_type": "markdown",
   "metadata": {},
   "source": [
    "#### Gridsearch pour random forest "
   ]
  },
  {
   "cell_type": "code",
   "execution_count": 144,
   "metadata": {},
   "outputs": [],
   "source": [
    "param_grid = {\n",
    "    'bootstrap': [True],\n",
    "    'max_depth': [80, 90, 100],\n",
    "    'max_features': [3, 4],\n",
    "    'min_samples_leaf': [3, 4],\n",
    "    'min_samples_split': [8, 10],\n",
    "    'n_estimators': [100, 250, 500],\n",
    "    'oob_score' : [True]\n",
    "}\n"
   ]
  },
  {
   "cell_type": "code",
   "execution_count": 145,
   "metadata": {},
   "outputs": [],
   "source": [
    "rf = RandomForestClassifier()\n",
    "grid_search = GridSearchCV(estimator = rf, param_grid = param_grid, cv = 3, n_jobs = -1, verbose = 2) "
   ]
  },
  {
   "cell_type": "code",
   "execution_count": 146,
   "metadata": {},
   "outputs": [
    {
     "name": "stdout",
     "output_type": "stream",
     "text": [
      "Fitting 3 folds for each of 72 candidates, totalling 216 fits\n"
     ]
    },
    {
     "name": "stderr",
     "output_type": "stream",
     "text": [
      "[Parallel(n_jobs=-1)]: Using backend LokyBackend with 8 concurrent workers.\n",
      "[Parallel(n_jobs=-1)]: Done  25 tasks      | elapsed:   49.1s\n",
      "[Parallel(n_jobs=-1)]: Done 146 tasks      | elapsed:  3.3min\n",
      "[Parallel(n_jobs=-1)]: Done 216 out of 216 | elapsed:  4.6min finished\n"
     ]
    },
    {
     "data": {
      "text/plain": [
       "GridSearchCV(cv=3, error_score='raise-deprecating',\n",
       "             estimator=RandomForestClassifier(bootstrap=True, class_weight=None,\n",
       "                                              criterion='gini', max_depth=None,\n",
       "                                              max_features='auto',\n",
       "                                              max_leaf_nodes=None,\n",
       "                                              min_impurity_decrease=0.0,\n",
       "                                              min_impurity_split=None,\n",
       "                                              min_samples_leaf=1,\n",
       "                                              min_samples_split=2,\n",
       "                                              min_weight_fraction_leaf=0.0,\n",
       "                                              n_estimators='warn', n_jobs=None,\n",
       "                                              oob_score=False,\n",
       "                                              random_state=None, verbose=0,\n",
       "                                              warm_start=False),\n",
       "             iid='warn', n_jobs=-1,\n",
       "             param_grid={'bootstrap': [True], 'max_depth': [80, 90, 100],\n",
       "                         'max_features': [3, 4], 'min_samples_leaf': [3, 4],\n",
       "                         'min_samples_split': [8, 10],\n",
       "                         'n_estimators': [100, 250, 500], 'oob_score': [True]},\n",
       "             pre_dispatch='2*n_jobs', refit=True, return_train_score=False,\n",
       "             scoring=None, verbose=2)"
      ]
     },
     "execution_count": 146,
     "metadata": {},
     "output_type": "execute_result"
    }
   ],
   "source": [
    "grid_search.fit(X_train, y_train)"
   ]
  },
  {
   "cell_type": "code",
   "execution_count": 147,
   "metadata": {},
   "outputs": [
    {
     "data": {
      "text/plain": [
       "{'bootstrap': True,\n",
       " 'max_depth': 80,\n",
       " 'max_features': 4,\n",
       " 'min_samples_leaf': 3,\n",
       " 'min_samples_split': 8,\n",
       " 'n_estimators': 500,\n",
       " 'oob_score': True}"
      ]
     },
     "execution_count": 147,
     "metadata": {},
     "output_type": "execute_result"
    }
   ],
   "source": [
    "grid_search.best_params_"
   ]
  },
  {
   "cell_type": "code",
   "execution_count": 148,
   "metadata": {},
   "outputs": [],
   "source": [
    "best_grid_random_forest = grid_search.best_estimator_\n",
    "model_best_random_forest=best_grid_random_forest.fit(X_train, y_train) \n",
    "import pickle\n",
    "filename = 'model_best_random_forest.pkl'\n",
    "pickle.dump(model_best_random_forest, open(filename, 'wb'))\n",
    "y_pred_classif_best_random_forest = model_best_random_forest.predict(X_test)  \n",
    "y_pred_proba_classif_best_random_forest = model_best_random_forest.predict_proba(X_test)  "
   ]
  },
  {
   "cell_type": "code",
   "execution_count": 149,
   "metadata": {},
   "outputs": [
    {
     "name": "stdout",
     "output_type": "stream",
     "text": [
      "[[5244   27]\n",
      " [ 384 2640]]\n"
     ]
    },
    {
     "data": {
      "text/plain": [
       "(1.95, -0.05)"
      ]
     },
     "execution_count": 149,
     "metadata": {},
     "output_type": "execute_result"
    },
    {
     "data": {
      "image/png": "[encoded data removed]",
      "text/plain": [
       "<Figure size 1080x432 with 2 Axes>"
      ]
     },
     "metadata": {
      "needs_background": "light"
     },
     "output_type": "display_data"
    }
   ],
   "source": [
    "confusion_matrice_best_grid_random_forest=confusion_matrix(y_test, y_pred_classif_best_random_forest)\n",
    "print(confusion_matrice_best_grid_random_forest)\n",
    "sns.heatmap(confusion_matrice_best_grid_random_forest, annot=True)\n",
    "plt.xlim(-0.05, len(np.unique(y))-0.05)\n",
    "plt.ylim(len(np.unique(y))-0.05, -0.05)"
   ]
  },
  {
   "cell_type": "code",
   "execution_count": 150,
   "metadata": {},
   "outputs": [
    {
     "data": {
      "text/plain": [
       "0.9739311163895487"
      ]
     },
     "execution_count": 150,
     "metadata": {},
     "output_type": "execute_result"
    }
   ],
   "source": [
    "accuracy_score(y_train, model_best_random_forest.predict(X_train))"
   ]
  },
  {
   "cell_type": "code",
   "execution_count": 151,
   "metadata": {},
   "outputs": [
    {
     "data": {
      "text/plain": [
       "0.9504520795660036"
      ]
     },
     "execution_count": 151,
     "metadata": {},
     "output_type": "execute_result"
    }
   ],
   "source": [
    "accuracy_score(y_test, y_pred_classif_best_random_forest)"
   ]
  },
  {
   "cell_type": "markdown",
   "metadata": {},
   "source": [
    "### SVM model"
   ]
  },
  {
   "cell_type": "code",
   "execution_count": 153,
   "metadata": {},
   "outputs": [
    {
     "data": {
      "text/plain": [
       "SVC(C=1.0, cache_size=200, class_weight=None, coef0=0.0,\n",
       "    decision_function_shape='ovr', degree=3, gamma='auto', kernel='rbf',\n",
       "    max_iter=-1, probability=False, random_state=None, shrinking=True,\n",
       "    tol=0.001, verbose=False)"
      ]
     },
     "execution_count": 153,
     "metadata": {},
     "output_type": "execute_result"
    }
   ],
   "source": [
    "#Gaussian kernel\n",
    "svclassifier = SVC(kernel='rbf',gamma='auto')\n",
    "svclassifier.fit(X_train, y_train)"
   ]
  },
  {
   "cell_type": "code",
   "execution_count": 154,
   "metadata": {},
   "outputs": [
    {
     "name": "stdout",
     "output_type": "stream",
     "text": [
      "[[5267    4]\n",
      " [2888  136]]\n",
      "              precision    recall  f1-score   support\n",
      "\n",
      "         0.0       0.65      1.00      0.78      5271\n",
      "         1.0       0.97      0.04      0.09      3024\n",
      "\n",
      "    accuracy                           0.65      8295\n",
      "   macro avg       0.81      0.52      0.44      8295\n",
      "weighted avg       0.76      0.65      0.53      8295\n",
      "\n"
     ]
    }
   ],
   "source": [
    "y_pred_svm_gaussian = svclassifier.predict(X_test)\n",
    "print(confusion_matrix(y_test, y_pred_svm_gaussian))\n",
    "print(classification_report(y_test, y_pred_svm_gaussian))\n"
   ]
  },
  {
   "cell_type": "code",
   "execution_count": 155,
   "metadata": {},
   "outputs": [
    {
     "data": {
      "text/plain": [
       "SVC(C=1.0, cache_size=200, class_weight=None, coef0=0.0,\n",
       "    decision_function_shape='ovr', degree=3, gamma='auto', kernel='sigmoid',\n",
       "    max_iter=-1, probability=False, random_state=None, shrinking=True,\n",
       "    tol=0.001, verbose=False)"
      ]
     },
     "execution_count": 155,
     "metadata": {},
     "output_type": "execute_result"
    }
   ],
   "source": [
    "#Sigmoid kernel \n",
    "svclassifier = SVC(kernel='sigmoid',gamma='auto')\n",
    "svclassifier.fit(X_train, y_train)"
   ]
  },
  {
   "cell_type": "code",
   "execution_count": 156,
   "metadata": {},
   "outputs": [
    {
     "name": "stdout",
     "output_type": "stream",
     "text": [
      "[[5271    0]\n",
      " [3024    0]]\n",
      "              precision    recall  f1-score   support\n",
      "\n",
      "         0.0       0.64      1.00      0.78      5271\n",
      "         1.0       0.00      0.00      0.00      3024\n",
      "\n",
      "    accuracy                           0.64      8295\n",
      "   macro avg       0.32      0.50      0.39      8295\n",
      "weighted avg       0.40      0.64      0.49      8295\n",
      "\n"
     ]
    }
   ],
   "source": [
    "y_pred_svm_sigmoid = svclassifier.predict(X_test)\n",
    "print(confusion_matrix(y_test, y_pred_svm_sigmoid))\n",
    "print(classification_report(y_test, y_pred_svm_sigmoid))\n"
   ]
  },
  {
   "cell_type": "markdown",
   "metadata": {},
   "source": [
    "### Xgboost"
   ]
  },
  {
   "cell_type": "code",
   "execution_count": 158,
   "metadata": {},
   "outputs": [
    {
     "data": {
      "text/plain": [
       "XGBClassifier(base_score=0.5, booster=None, colsample_bylevel=1,\n",
       "              colsample_bynode=1, colsample_bytree=1, gamma=0, gpu_id=-1,\n",
       "              importance_type='gain', interaction_constraints=None,\n",
       "              learning_rate=0.300000012, max_delta_step=0, max_depth=6,\n",
       "              min_child_weight=1, missing=nan, monotone_constraints=None,\n",
       "              n_estimators=100, n_jobs=0, num_parallel_tree=1,\n",
       "              objective='binary:logistic', random_state=0, reg_alpha=0,\n",
       "              reg_lambda=1, scale_pos_weight=1, subsample=1, tree_method=None,\n",
       "              validate_parameters=False, verbosity=None)"
      ]
     },
     "execution_count": 158,
     "metadata": {},
     "output_type": "execute_result"
    }
   ],
   "source": [
    "#Premier test \n",
    "model_xgboost = XGBClassifier()\n",
    "model_xgboost.fit(X_train, y_train)"
   ]
  },
  {
   "cell_type": "code",
   "execution_count": 159,
   "metadata": {},
   "outputs": [],
   "source": [
    "y_pred_xgboost = model_xgboost.predict(X_test)"
   ]
  },
  {
   "cell_type": "code",
   "execution_count": 160,
   "metadata": {},
   "outputs": [
    {
     "data": {
      "text/plain": [
       "0.996021377672209"
      ]
     },
     "execution_count": 160,
     "metadata": {},
     "output_type": "execute_result"
    }
   ],
   "source": [
    "accuracy_score(y_train, model_xgboost.predict(X_train))"
   ]
  },
  {
   "cell_type": "code",
   "execution_count": 161,
   "metadata": {},
   "outputs": [
    {
     "data": {
      "text/plain": [
       "0.9720313441832429"
      ]
     },
     "execution_count": 161,
     "metadata": {},
     "output_type": "execute_result"
    }
   ],
   "source": [
    "accuracy_score(y_test, y_pred_xgboost)"
   ]
  },
  {
   "cell_type": "markdown",
   "metadata": {},
   "source": [
    "#### Gridsearch xgboost"
   ]
  },
  {
   "cell_type": "code",
   "execution_count": 163,
   "metadata": {},
   "outputs": [],
   "source": [
    "param_grid_xgboost = {\n",
    "    'max_depth': [5, 6, 7],\n",
    "    'n_estimators': [100, 200],\n",
    "    'learning_rate' : [0.2,0.3],\n",
    "    'booster':['gbtree', 'gblinear','dart'],\n",
    "    'gamma':[0,0.05]\n",
    "}\n"
   ]
  },
  {
   "cell_type": "code",
   "execution_count": 164,
   "metadata": {},
   "outputs": [],
   "source": [
    "model_xgboost = XGBClassifier()\n",
    "grid_search_xgboost = GridSearchCV(estimator = model_xgboost, param_grid = param_grid_xgboost, cv = 3, n_jobs = -1, verbose = 2) "
   ]
  },
  {
   "cell_type": "code",
   "execution_count": 165,
   "metadata": {},
   "outputs": [
    {
     "name": "stdout",
     "output_type": "stream",
     "text": [
      "Fitting 3 folds for each of 72 candidates, totalling 216 fits\n"
     ]
    },
    {
     "name": "stderr",
     "output_type": "stream",
     "text": [
      "[Parallel(n_jobs=-1)]: Using backend LokyBackend with 8 concurrent workers.\n",
      "[Parallel(n_jobs=-1)]: Done  25 tasks      | elapsed:  2.5min\n",
      "[Parallel(n_jobs=-1)]: Done 146 tasks      | elapsed:  8.8min\n",
      "[Parallel(n_jobs=-1)]: Done 216 out of 216 | elapsed: 17.2min finished\n"
     ]
    },
    {
     "data": {
      "text/plain": [
       "GridSearchCV(cv=3, error_score='raise-deprecating',\n",
       "             estimator=XGBClassifier(base_score=None, booster=None,\n",
       "                                     colsample_bylevel=None,\n",
       "                                     colsample_bynode=None,\n",
       "                                     colsample_bytree=None, gamma=None,\n",
       "                                     gpu_id=None, importance_type='gain',\n",
       "                                     interaction_constraints=None,\n",
       "                                     learning_rate=None, max_delta_step=None,\n",
       "                                     max_depth=None, min_child_weight=None,\n",
       "                                     missing=nan, monotone_constrai...\n",
       "                                     reg_lambda=None, scale_pos_weight=None,\n",
       "                                     subsample=None, tree_method=None,\n",
       "                                     validate_parameters=False,\n",
       "                                     verbosity=None),\n",
       "             iid='warn', n_jobs=-1,\n",
       "             param_grid={'booster': ['gbtree', 'gblinear', 'dart'],\n",
       "                         'gamma': [0, 0.05], 'learning_rate': [0.2, 0.3],\n",
       "                         'max_depth': [5, 6, 7], 'n_estimators': [100, 200]},\n",
       "             pre_dispatch='2*n_jobs', refit=True, return_train_score=False,\n",
       "             scoring=None, verbose=2)"
      ]
     },
     "execution_count": 165,
     "metadata": {},
     "output_type": "execute_result"
    }
   ],
   "source": [
    "grid_search_xgboost.fit(X_train, y_train)"
   ]
  },
  {
   "cell_type": "code",
   "execution_count": 166,
   "metadata": {},
   "outputs": [
    {
     "data": {
      "text/plain": [
       "{'booster': 'gbtree',\n",
       " 'gamma': 0.05,\n",
       " 'learning_rate': 0.3,\n",
       " 'max_depth': 6,\n",
       " 'n_estimators': 200}"
      ]
     },
     "execution_count": 166,
     "metadata": {},
     "output_type": "execute_result"
    }
   ],
   "source": [
    "grid_search_xgboost.best_params_"
   ]
  },
  {
   "cell_type": "code",
   "execution_count": 167,
   "metadata": {},
   "outputs": [],
   "source": [
    "best_grid_xgboost = grid_search_xgboost.best_estimator_\n",
    "model_best_xgboost=best_grid_xgboost.fit(X_train, y_train) \n",
    "filename = 'model_best_xgboost.pkl'\n",
    "pickle.dump(model_best_xgboost, open(filename, 'wb'))\n",
    "y_pred_classif_best_xgboost = model_best_xgboost.predict(X_test)  \n",
    "y_pred_proba_classif_best_xgboost = model_best_xgboost.predict_proba(X_test)  "
   ]
  },
  {
   "cell_type": "code",
   "execution_count": 168,
   "metadata": {
    "scrolled": true
   },
   "outputs": [
    {
     "name": "stdout",
     "output_type": "stream",
     "text": [
      "[[5170  101]\n",
      " [ 107 2917]]\n"
     ]
    },
    {
     "data": {
      "text/plain": [
       "(1.95, -0.05)"
      ]
     },
     "execution_count": 168,
     "metadata": {},
     "output_type": "execute_result"
    },
    {
     "data": {
      "image/png": "[encoded data removed]",
      "text/plain": [
       "<Figure size 1080x432 with 2 Axes>"
      ]
     },
     "metadata": {
      "needs_background": "light"
     },
     "output_type": "display_data"
    }
   ],
   "source": [
    "confusion_matrice_best_xgboost=confusion_matrix(y_test, y_pred_classif_best_xgboost)\n",
    "print(confusion_matrice_best_xgboost)\n",
    "sns.heatmap(confusion_matrice_best_xgboost, annot=True)\n",
    "plt.xlim(-0.05, len(np.unique(y))-0.05)\n",
    "plt.ylim(len(np.unique(y))-0.05, -0.05)"
   ]
  },
  {
   "cell_type": "code",
   "execution_count": 169,
   "metadata": {},
   "outputs": [
    {
     "data": {
      "text/plain": [
       "1.0"
      ]
     },
     "execution_count": 169,
     "metadata": {},
     "output_type": "execute_result"
    }
   ],
   "source": [
    "accuracy_score(y_train, model_best_xgboost.predict(X_train))"
   ]
  },
  {
   "cell_type": "code",
   "execution_count": 170,
   "metadata": {},
   "outputs": [
    {
     "data": {
      "text/plain": [
       "0.974924653405666"
      ]
     },
     "execution_count": 170,
     "metadata": {},
     "output_type": "execute_result"
    }
   ],
   "source": [
    "accuracy_score(y_test, y_pred_classif_best_xgboost)"
   ]
  },
  {
   "cell_type": "code",
   "execution_count": 171,
   "metadata": {},
   "outputs": [
    {
     "data": {
      "text/plain": [
       "0.0665960688969418"
      ]
     },
     "execution_count": 171,
     "metadata": {},
     "output_type": "execute_result"
    }
   ],
   "source": [
    "log_loss(y_test, y_pred_proba_classif_best_xgboost)\n"
   ]
  },
  {
   "cell_type": "code",
   "execution_count": 172,
   "metadata": {},
   "outputs": [
    {
     "name": "stdout",
     "output_type": "stream",
     "text": [
      "              precision    recall  f1-score   support\n",
      "\n",
      "         0.0       0.98      0.98      0.98      5271\n",
      "         1.0       0.97      0.96      0.97      3024\n",
      "\n",
      "    accuracy                           0.97      8295\n",
      "   macro avg       0.97      0.97      0.97      8295\n",
      "weighted avg       0.97      0.97      0.97      8295\n",
      "\n"
     ]
    }
   ],
   "source": [
    "print(classification_report(y_test,y_pred_classif_best_xgboost))"
   ]
  },
  {
   "cell_type": "code",
   "execution_count": null,
   "metadata": {},
   "outputs": [],
   "source": []
  },
  {
   "cell_type": "code",
   "execution_count": null,
   "metadata": {},
   "outputs": [],
   "source": []
  }
 ],
 "metadata": {
  "colab": {
   "authorship_tag": "ABX9TyP43acyhT7qgL/7zRDp7mb9",
   "collapsed_sections": [],
   "name": "Pipeline Suppression.ipynb",
   "provenance": []
  },
  "kernelspec": {
   "display_name": "Python 3",
   "language": "python",
   "name": "python3"
  },
  "language_info": {
   "codemirror_mode": {
    "name": "ipython",
    "version": 3
   },
   "file_extension": ".py",
   "mimetype": "text/x-python",
   "name": "python",
   "nbconvert_exporter": "python",
   "pygments_lexer": "ipython3",
   "version": "3.7.4"
  }
 },
 "nbformat": 4,
 "nbformat_minor": 1
}
